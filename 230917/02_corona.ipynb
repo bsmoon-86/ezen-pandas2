{
 "cells": [
  {
   "cell_type": "code",
   "execution_count": null,
   "metadata": {},
   "outputs": [],
   "source": [
    "# 라이브러리 로드 \n",
    "import pandas as pd"
   ]
  },
  {
   "cell_type": "code",
   "execution_count": null,
   "metadata": {},
   "outputs": [],
   "source": [
    "# corona.csv 파일 로드 \n",
    "# 상위 폴더 이동(../) -> csv 폴더로 이동(csv/) -> corona.csv\n",
    "corona = pd.read_csv(\"../csv/corona.csv\")"
   ]
  },
  {
   "cell_type": "code",
   "execution_count": null,
   "metadata": {},
   "outputs": [],
   "source": [
    "# 상위의 3개만 출력 \n",
    "# head(n) : 상위 n개만큼 출력\n",
    "corona.head(3)"
   ]
  },
  {
   "cell_type": "code",
   "execution_count": null,
   "metadata": {},
   "outputs": [],
   "source": [
    "# 특정한 컬럼의 삭제\n",
    "# drop({조건}, axis=?, inplace = bool)\n",
    "# 조건 -> 컬럼을 기준 : 컬럼의 이름 , 인덱스를 기준 : 인덱스의 이름|인덱스의 조건식\n",
    "# axis 매개변수 : 행, 열의 기준을 지정 (0 | rows , 1 | columns)\n",
    "# inplace 매개변수 : 기준이 되는 데이터프레임을 변경할것인가 지정 (기본값은 false)\n",
    "\n",
    "corona2 = corona.drop(['Unnamed: 0'], axis=1)"
   ]
  },
  {
   "cell_type": "code",
   "execution_count": null,
   "metadata": {},
   "outputs": [],
   "source": [
    "corona2"
   ]
  },
  {
   "cell_type": "code",
   "execution_count": null,
   "metadata": {},
   "outputs": [],
   "source": [
    "corona.drop([\"Unnamed: 0\"], axis=\"columns\", inplace=True)\n",
    "# corona = corona.drop([\"Unnamed: 0\"], axis=\"columns\")"
   ]
  },
  {
   "cell_type": "code",
   "execution_count": null,
   "metadata": {},
   "outputs": [],
   "source": [
    "corona.head(1)"
   ]
  },
  {
   "cell_type": "code",
   "execution_count": null,
   "metadata": {},
   "outputs": [],
   "source": [
    "# 특정한 인덱스를 제거 \n",
    "corona.drop([0], axis=\"rows\")"
   ]
  },
  {
   "cell_type": "code",
   "execution_count": null,
   "metadata": {},
   "outputs": [],
   "source": [
    "# 원본 데이터를 유지 복사본 데이터로 수정 \n",
    "df = corona.copy()"
   ]
  },
  {
   "cell_type": "code",
   "execution_count": null,
   "metadata": {},
   "outputs": [],
   "source": [
    "df.drop([1], axis=0, inplace=True)"
   ]
  },
  {
   "cell_type": "code",
   "execution_count": null,
   "metadata": {},
   "outputs": [],
   "source": [
    "df"
   ]
  },
  {
   "cell_type": "code",
   "execution_count": null,
   "metadata": {},
   "outputs": [],
   "source": [
    "df.head(1)"
   ]
  },
  {
   "cell_type": "code",
   "execution_count": null,
   "metadata": {},
   "outputs": [],
   "source": [
    "# 컬럼의 이름을 변경\n",
    "df.columns = ['등록일시', '총사망자', '총확진자', '게시글번호', '기준일', '기준시간', '수정일시', '누적의심자', '누적확진자']"
   ]
  },
  {
   "cell_type": "code",
   "execution_count": null,
   "metadata": {},
   "outputs": [],
   "source": [
    "df.head(5)"
   ]
  },
  {
   "cell_type": "code",
   "execution_count": null,
   "metadata": {},
   "outputs": [],
   "source": [
    "# 데이터프레임에서 특정 컬럼을 기준으로 정렬을 변경\n",
    "# sort_values([{기준의 되는 컬럼}], ascending = bool, inplace = bool)\n",
    "# ascending 매개변수 : 오름차순(True), 내림차순(False) 지정 (기본값 True)\n",
    "# inplace 매개변수 : 기준이 되는 데이터프레임을 변경할것인가 지정(기본값은 False)\n",
    "\n",
    "# 등록일시를 기준으로 오름차순 정렬\n",
    "df.sort_values(['등록일시'], ascending=True, inplace=True)"
   ]
  },
  {
   "cell_type": "code",
   "execution_count": null,
   "metadata": {},
   "outputs": [],
   "source": [
    "df.head()"
   ]
  },
  {
   "cell_type": "code",
   "execution_count": null,
   "metadata": {},
   "outputs": [],
   "source": [
    "# 인덱스의 값을 초기화\n",
    "# reset_index(drop = bool, inplace = bool)\n",
    "# drop 매개변수 : 기존의 인덱스를 삭제할 것인가 지정 (기본값은 False)\n",
    "df.reset_index(drop = True)"
   ]
  },
  {
   "cell_type": "code",
   "execution_count": null,
   "metadata": {},
   "outputs": [],
   "source": [
    "df = df.reset_index().drop(['index'], axis=1)"
   ]
  },
  {
   "cell_type": "code",
   "execution_count": null,
   "metadata": {},
   "outputs": [],
   "source": [
    "df.tail()"
   ]
  },
  {
   "cell_type": "code",
   "execution_count": null,
   "metadata": {},
   "outputs": [],
   "source": [
    "# 결측치의 존재는 확인 \n",
    "\n",
    "# case1\n",
    "# 데이터프레임의 정보를 출력\n",
    "# info()\n",
    "df.info()"
   ]
  },
  {
   "cell_type": "code",
   "execution_count": null,
   "metadata": {},
   "outputs": [],
   "source": [
    "# 결측치의 개수를 확인\n",
    "# is함수 : 특정한 값이 존재하는가? -> bool의 형태로 출력\n",
    "# 결측치가 존재하는가? -> isna()\n",
    "# sum() : 열을 기준으로 합계 -> axis 매개변수를 변경(1)하면 행을 기준으로 합계\n",
    "df.isna().sum()"
   ]
  },
  {
   "cell_type": "code",
   "execution_count": null,
   "metadata": {},
   "outputs": [],
   "source": [
    "df.isna().sum(axis=1)"
   ]
  },
  {
   "cell_type": "code",
   "execution_count": null,
   "metadata": {},
   "outputs": [],
   "source": [
    "# 결측치 특정한 값을 대체\n",
    "# fillna({특정한 데이터값})\n",
    "# fillna(method=?)\n",
    "# method 매개변수 : \n",
    "#   'ffill' -> 전의 데이터의 값으로 대체\n",
    "#   'bfill' -> 후의 데이터의 값으로 대체\n",
    "\n",
    "df['누적의심자'] = df['누적의심자'].fillna(method='ffill')"
   ]
  },
  {
   "cell_type": "code",
   "execution_count": null,
   "metadata": {},
   "outputs": [],
   "source": [
    "# 누적의심자 컬럼의 결측치를 누적의심자의 평균 값으로 대체\n",
    "df['누적의심자'].fillna(df['누적의심자'].mean())"
   ]
  },
  {
   "cell_type": "code",
   "execution_count": null,
   "metadata": {},
   "outputs": [],
   "source": [
    "df.isna().sum()"
   ]
  },
  {
   "cell_type": "code",
   "execution_count": null,
   "metadata": {},
   "outputs": [],
   "source": [
    "df.head(3)"
   ]
  },
  {
   "cell_type": "code",
   "execution_count": null,
   "metadata": {},
   "outputs": [],
   "source": [
    "# 특정 컬럼이나 특정 인덱스의 이름을 변경\n",
    "# rename(index = {'before' : 'after'}, columns = {'before' : 'after'}, inplace=bool)\n",
    "df.rename(columns={'누적확진자' : '누적확진율'}, inplace=True)"
   ]
  },
  {
   "cell_type": "code",
   "execution_count": null,
   "metadata": {},
   "outputs": [],
   "source": [
    "df.head(3)"
   ]
  },
  {
   "cell_type": "code",
   "execution_count": null,
   "metadata": {},
   "outputs": [],
   "source": [
    "# shift(n)\n",
    "# 컬럼을 n만큼 이동하여 새로운 스리즈를 생성(n은 1이 기본값)\n",
    "df['총확진자'].shift()"
   ]
  },
  {
   "cell_type": "code",
   "execution_count": null,
   "metadata": {},
   "outputs": [],
   "source": [
    "# 일일확진자  = (오늘의 총확진자 - 어제의 총확진자).fillna(0)\n",
    "# 일일확진자를 스리즈의 형태로 만들어서 결측치는 0으로 대체\n",
    "(df['총확진자'] - df['총확진자'].shift()).fillna(0)"
   ]
  },
  {
   "cell_type": "code",
   "execution_count": null,
   "metadata": {},
   "outputs": [],
   "source": [
    "# 데이터프레임에 새로운 컬럼을 추가 \n",
    "df['일일확진자'] = (df['총확진자'] - df['총확진자'].shift(1)).fillna(0)"
   ]
  },
  {
   "cell_type": "code",
   "execution_count": null,
   "metadata": {},
   "outputs": [],
   "source": [
    "df.head(3)"
   ]
  },
  {
   "cell_type": "code",
   "execution_count": null,
   "metadata": {},
   "outputs": [],
   "source": [
    "# diff(n)\n",
    "# 해당하는 컬럼에서 n만큼 이동한 데이터와의 차이를 출력\n",
    "# n은 1이 기본값\n",
    "df['총사망자'].diff(1).fillna(0) == (df['총사망자'] - df['총사망자'].shift(1)).fillna(0)"
   ]
  },
  {
   "cell_type": "code",
   "execution_count": null,
   "metadata": {},
   "outputs": [],
   "source": [
    "# 일일사망자 라는 새로운 파생변수를 생성\n",
    "df['일일사망자'] = df['총사망자'].diff().fillna(0)"
   ]
  },
  {
   "cell_type": "code",
   "execution_count": null,
   "metadata": {},
   "outputs": [],
   "source": [
    "df.head(3)"
   ]
  },
  {
   "cell_type": "markdown",
   "metadata": {},
   "source": [
    "### 필터링\n",
    "- loc[인덱스의 조건, 컬럼의 조건]\n",
    "    - 특정한 인덱스의 조건에 일치하는 데이터를 확인\n",
    "    - 특정한 컬럼의 조건에 일치하는 데이터를 확인\n",
    "- iloc[인덱스의 위치, 컬럼의 위치]\n",
    "    - 특정한 인덱스의 위치의 데이터를 확인\n",
    "    - 특정한 컬럼의 위치의 데이터를 확인"
   ]
  },
  {
   "cell_type": "code",
   "execution_count": null,
   "metadata": {},
   "outputs": [],
   "source": [
    "df2 = df.copy()"
   ]
  },
  {
   "cell_type": "code",
   "execution_count": null,
   "metadata": {},
   "outputs": [],
   "source": [
    "df2.drop([0,1], axis=0, inplace=True)\n",
    "df2.head(3)"
   ]
  },
  {
   "cell_type": "code",
   "execution_count": null,
   "metadata": {},
   "outputs": [],
   "source": [
    "# 특정한 인덱스의 조건 필터\n",
    "df2.loc[3:5]"
   ]
  },
  {
   "cell_type": "code",
   "execution_count": null,
   "metadata": {},
   "outputs": [],
   "source": [
    "# 특정한 인덱스의 위치 필터\n",
    "df2.iloc[3:5]"
   ]
  },
  {
   "cell_type": "code",
   "execution_count": null,
   "metadata": {},
   "outputs": [],
   "source": [
    "# 특정한 컬럼의 조건 필터\n",
    "df2.loc[:, '총확진자': '일일확진자']"
   ]
  },
  {
   "cell_type": "code",
   "execution_count": null,
   "metadata": {},
   "outputs": [],
   "source": [
    "# 특정한 컬럼의 위치 필터\n",
    "df2.iloc[:, 1:5]"
   ]
  },
  {
   "cell_type": "code",
   "execution_count": null,
   "metadata": {},
   "outputs": [],
   "source": [
    "# 특정한 조건식 \n",
    "(df['일일확진자'] < 0).value_counts()"
   ]
  },
  {
   "cell_type": "code",
   "execution_count": null,
   "metadata": {},
   "outputs": [],
   "source": [
    "df.loc[df['일일확진자'] < 0]"
   ]
  },
  {
   "cell_type": "code",
   "execution_count": null,
   "metadata": {},
   "outputs": [],
   "source": [
    "# 데이터의 이상을 확인하기 위해 인덱스 444번부터 448번 필터\n",
    "df.loc[444:448]"
   ]
  },
  {
   "cell_type": "code",
   "execution_count": null,
   "metadata": {},
   "outputs": [],
   "source": [
    "# 인덱스 445번의 등록일시가 잘못 기입\n",
    "# 445번의 등록일시를 2021-05-31 00:00:00.000로 변경\n",
    "\n",
    "# 인덱스가 445이고 컬럼의 이름은 등록일시인 데이터를 출력\n",
    "df.loc[445, '등록일시'] = \"2021-05-31 00:00:00.000\""
   ]
  },
  {
   "cell_type": "code",
   "execution_count": null,
   "metadata": {},
   "outputs": [],
   "source": [
    "df.loc[445]"
   ]
  },
  {
   "cell_type": "code",
   "execution_count": null,
   "metadata": {},
   "outputs": [],
   "source": [
    "# 등록일시를 기준으로 오름차순 정렬\n",
    "df.sort_values(['등록일시'], inplace=True)\n",
    "# 인덱스를 초기화하고 기존의 인덱스는 제거 \n",
    "df.reset_index(drop=True, inplace=True)\n",
    "# 일일확진자 컬럼을 수정\n",
    "df['일일확진자'] = (df['총확진자'] - df['총확진자'].shift()).fillna(0)\n",
    "# 일일사망자 컬럼을 수정\n",
    "df['일일사망자'] = df['총사망자'].diff().fillna(0)\n",
    "# 일일확진자에 음수가 존재하는지 확인\n",
    "df.loc[df['일일확진자'] < 0]"
   ]
  },
  {
   "cell_type": "code",
   "execution_count": null,
   "metadata": {},
   "outputs": [],
   "source": [
    "df[['등록일시', '기준일']]"
   ]
  },
  {
   "cell_type": "code",
   "execution_count": null,
   "metadata": {},
   "outputs": [],
   "source": [
    "# 등록일시 컬럼의 데이터의 타입을 문자열에서 시계열 데이터로 타입을 변경\n",
    "# to_datetime({스리즈형태의 데이터}, format = {데이터의 형태})\n",
    "# pandas에 내장된 함수\n",
    "# 시계열 데이터의 형태 \n",
    "#   %Y : 4자리의 년도수\n",
    "#   %y : 2자라의 년도수\n",
    "#   %m : 월\n",
    "#   %d : 일\n",
    "#   %H : 24기준 시간\n",
    "#   %M : 분\n",
    "#   %S : 초\n",
    "df['등록일시'] = pd.to_datetime(df['등록일시'])"
   ]
  },
  {
   "cell_type": "code",
   "execution_count": null,
   "metadata": {},
   "outputs": [],
   "source": [
    "df['기준일'] =  pd.to_datetime(df['기준일'], format='%Y%m%d')"
   ]
  },
  {
   "cell_type": "code",
   "execution_count": null,
   "metadata": {},
   "outputs": [],
   "source": [
    "df.info()"
   ]
  },
  {
   "cell_type": "code",
   "execution_count": null,
   "metadata": {},
   "outputs": [],
   "source": [
    "# 시계열 데이터에서 요일의 값을 가진 변수\n",
    "# weekday\n",
    "# 0 : 월, 1 : 화, .... , 6 : 일\n",
    "df['요일'] = df['등록일시'].dt.weekday"
   ]
  },
  {
   "cell_type": "code",
   "execution_count": null,
   "metadata": {},
   "outputs": [],
   "source": [
    "df.head(3)"
   ]
  },
  {
   "cell_type": "code",
   "execution_count": null,
   "metadata": {},
   "outputs": [],
   "source": [
    "# map 함수 : 자료형 데이터를 함수에 각각 원소들을 대입하여 결과값을 자료형으로 받는 함수\n",
    "def change(x):\n",
    "    result = x ** 2\n",
    "    return result"
   ]
  },
  {
   "cell_type": "code",
   "execution_count": null,
   "metadata": {},
   "outputs": [],
   "source": [
    "change(10)"
   ]
  },
  {
   "cell_type": "code",
   "execution_count": null,
   "metadata": {},
   "outputs": [],
   "source": [
    "a = [1,2,3,4]\n",
    "\n",
    "list(map(change, a))"
   ]
  },
  {
   "cell_type": "code",
   "execution_count": null,
   "metadata": {},
   "outputs": [],
   "source": [
    "# apply() : 스리즈 형태의 데이터를 일반함수에 대입하여 새로운 스리즈의 형태의 데이터를 생성\n",
    "# Series class 안에 있는 함수\n",
    "def change(x):\n",
    "    # x의 값이 0이라면 '월'을 리턴\n",
    "    # 1이라면 '화'\n",
    "    # .... 6이라면 '수' 리턴\n",
    "    if x == 0 :\n",
    "        result = '월'\n",
    "    elif x == 1 : \n",
    "        result = '화'\n",
    "    elif x == 2 : \n",
    "        result = '수'\n",
    "    elif x == 3 :\n",
    "        result = '목'\n",
    "    elif x == 4 :\n",
    "        result = '금'\n",
    "    elif x == 5 :\n",
    "        result = '토'\n",
    "    else:\n",
    "        result = '일'\n",
    "\n",
    "    return result"
   ]
  },
  {
   "cell_type": "code",
   "execution_count": null,
   "metadata": {},
   "outputs": [],
   "source": [
    "def change2(x):\n",
    "    # x : 0, 1, 2, 3, 4, 5, 6\n",
    "    # 자료형 데이터를 가지고 x 값의 위치에 있는 데이터를 출력\n",
    "    _list = ['월', '화', '수', '목', '금', '토', '일']\n",
    "    result = _list[x]\n",
    "    return result"
   ]
  },
  {
   "cell_type": "code",
   "execution_count": null,
   "metadata": {},
   "outputs": [],
   "source": [
    "change2(3)"
   ]
  },
  {
   "cell_type": "code",
   "execution_count": null,
   "metadata": {},
   "outputs": [],
   "source": [
    "df['요일'] = df['요일'].apply(change2)"
   ]
  },
  {
   "cell_type": "code",
   "execution_count": null,
   "metadata": {},
   "outputs": [],
   "source": [
    "# 스리즈명.apply(함수명)\n",
    "\n",
    "df['요일'].apply(change)"
   ]
  },
  {
   "cell_type": "code",
   "execution_count": null,
   "metadata": {},
   "outputs": [],
   "source": [
    "class Test:\n",
    "    # 생성자 함수\n",
    "    def __init__(self, _values, _index = 0):\n",
    "        # self.변수명 : 독립적인 변수\n",
    "        if _index == 0 :\n",
    "            self.index = list(range(len(_values)))\n",
    "        else :\n",
    "            self.index = _index\n",
    "        self.values = _values\n",
    "\n",
    "    # 일반 함수\n",
    "    def apply(self, _func):\n",
    "        result = list(map(_func, self.values))\n",
    "        return result"
   ]
  },
  {
   "cell_type": "code",
   "execution_count": null,
   "metadata": {},
   "outputs": [],
   "source": [
    "test1 = Test([5, 4, 3, 2, 1])"
   ]
  },
  {
   "cell_type": "code",
   "execution_count": null,
   "metadata": {},
   "outputs": [],
   "source": [
    "test1.index"
   ]
  },
  {
   "cell_type": "code",
   "execution_count": null,
   "metadata": {},
   "outputs": [],
   "source": [
    "test1.apply(change)"
   ]
  },
  {
   "cell_type": "code",
   "execution_count": null,
   "metadata": {},
   "outputs": [],
   "source": [
    "df.head()"
   ]
  },
  {
   "cell_type": "code",
   "execution_count": null,
   "metadata": {},
   "outputs": [],
   "source": [
    "df[['기준일', '등록일시']]\n",
    "# df.loc[:, ['기준일', '등록일시']]"
   ]
  },
  {
   "cell_type": "code",
   "execution_count": null,
   "metadata": {},
   "outputs": [],
   "source": [
    "# 그룹화 연산 \n",
    "# 해당하는 대상 컬럼의 데이터가 같은 값들끼리 데이터를 모아서 연산(최소, 최대, 표준편차, 합계, 평균, 개수)\n",
    "# 데이터프레임명.groupby({특정한 컬럼}).연산함수()\n",
    "# 요일을 기준으로 그룹화하여 일일사망자, 일일확진자의 평균과 합계\n",
    "group_data = df[['요일', '일일사망자', '일일확진자']].groupby('요일').agg(['mean', 'sum'])"
   ]
  },
  {
   "cell_type": "code",
   "execution_count": null,
   "metadata": {},
   "outputs": [],
   "source": [
    "# 멀티 컬럼에서 특정한 Series을 출력하려면?\n",
    "# 컬럼을 하나씩 하나씩 없앤다. \n",
    "group_data['일일사망자']['mean']"
   ]
  },
  {
   "cell_type": "code",
   "execution_count": null,
   "metadata": {},
   "outputs": [],
   "source": [
    "group_data"
   ]
  },
  {
   "cell_type": "code",
   "execution_count": null,
   "metadata": {},
   "outputs": [],
   "source": [
    "import matplotlib.pyplot as plt"
   ]
  },
  {
   "cell_type": "code",
   "execution_count": null,
   "metadata": {},
   "outputs": [],
   "source": [
    "import platform"
   ]
  },
  {
   "cell_type": "code",
   "execution_count": null,
   "metadata": {},
   "outputs": [],
   "source": [
    "# matplotlib의 폰트 설정 변경\n",
    "# OS가 MAC 이라면\n",
    "if platform.system() == 'Darwin':\n",
    "    plt.rc('font', family = \"AppleGothic\")\n",
    "else:\n",
    "    plt.rc('font', family = 'Malgun Gothic')"
   ]
  },
  {
   "cell_type": "code",
   "execution_count": null,
   "metadata": {},
   "outputs": [],
   "source": [
    "# 일일확진자의 평균 값을 바형 그래프 시각화\n",
    "# x축 데이터 : 그룹데이터의 인덱스 \n",
    "# y축 데이터 : 그룹데이터에서 일일확진자 안에 있는 mean\n",
    "x = group_data.index\n",
    "y = group_data['일일확진자']['mean']\n",
    "\n",
    "plt.bar(x, y)\n",
    "\n",
    "plt.show()"
   ]
  },
  {
   "cell_type": "code",
   "execution_count": null,
   "metadata": {},
   "outputs": [],
   "source": [
    "df.loc[[4, 1, 6]]"
   ]
  },
  {
   "cell_type": "code",
   "execution_count": null,
   "metadata": {},
   "outputs": [],
   "source": [
    "# 요일 순서에 맞게 group_data을 변경\n",
    "week_order = ['월', '화', '수', '목', '금', '토', '일']\n",
    "group_data = group_data.loc[week_order]"
   ]
  },
  {
   "cell_type": "code",
   "execution_count": null,
   "metadata": {},
   "outputs": [],
   "source": [
    "x = group_data.index\n",
    "y = group_data['일일확진자']['mean']\n",
    "\n",
    "plt.bar(x, y)\n",
    "plt.show()"
   ]
  },
  {
   "cell_type": "code",
   "execution_count": null,
   "metadata": {},
   "outputs": [],
   "source": [
    "# 일일사망자의 합계를 바형 그래프 시각화 \n",
    "x = group_data.index\n",
    "y = group_data['일일사망자']['sum']\n",
    "\n",
    "plt.bar(x, y)\n",
    "plt.show()"
   ]
  },
  {
   "cell_type": "code",
   "execution_count": null,
   "metadata": {},
   "outputs": [],
   "source": [
    "# 두 그래프를 분할해서 하나의 화면에서 표기\n",
    "# subplot({행의 수}, {열의 수}, {위치}) \n",
    "x = group_data.index\n",
    "y1 = group_data['일일확진자']['mean']\n",
    "y2 = group_data['일일사망자']['sum']\n",
    "color_list = ['blue', 'red', 'green', 'cyan', 'yellow', 'black', 'orange']\n",
    "\n",
    "# 출력되는 화면의 사이즈를 변경\n",
    "plt.figure(figsize=(14, 8))\n",
    "# 화면을 2분할하여 첫번째 위치를 지정\n",
    "plt.subplot(2, 1, 1)\n",
    "# 바형 그래프 생성 막대의 색을 변경\n",
    "plt.bar(x, y1, color = color_list)\n",
    "# x축 이름\n",
    "plt.xlabel(\"요일\")\n",
    "# y축 이름\n",
    "plt.ylabel('일일확진자의 평균')\n",
    "# 두번째 위치로 변경\n",
    "plt.subplot(2, 1, 2)\n",
    "# 바형 그래프 생성 \n",
    "plt.bar(x, y2)\n",
    "\n",
    "plt.show()"
   ]
  },
  {
   "cell_type": "code",
   "execution_count": 257,
   "metadata": {},
   "outputs": [],
   "source": [
    "# DataFrame을 csv 파일로 저장\n",
    "# to_csv({저장할 파일의 경로와 이름}, encoding={인코딩 엔진})\n",
    "# 인덱스는 제외하고 파일을 저장 (index 매개변수의 입력값을 False)\n",
    "df.to_csv(\"corona.csv\", encoding='CP949', index=False)"
   ]
  },
  {
   "cell_type": "code",
   "execution_count": null,
   "metadata": {},
   "outputs": [],
   "source": [
    "!pip install openpyxl"
   ]
  },
  {
   "cell_type": "code",
   "execution_count": 263,
   "metadata": {},
   "outputs": [],
   "source": [
    "df.to_excel(\"corona.xlsx\", index=False)"
   ]
  },
  {
   "cell_type": "code",
   "execution_count": 258,
   "metadata": {},
   "outputs": [
    {
     "data": {
      "text/html": [
       "<div>\n",
       "<style scoped>\n",
       "    .dataframe tbody tr th:only-of-type {\n",
       "        vertical-align: middle;\n",
       "    }\n",
       "\n",
       "    .dataframe tbody tr th {\n",
       "        vertical-align: top;\n",
       "    }\n",
       "\n",
       "    .dataframe thead th {\n",
       "        text-align: right;\n",
       "    }\n",
       "</style>\n",
       "<table border=\"1\" class=\"dataframe\">\n",
       "  <thead>\n",
       "    <tr style=\"text-align: right;\">\n",
       "      <th></th>\n",
       "      <th>등록일시</th>\n",
       "      <th>총사망자</th>\n",
       "      <th>총확진자</th>\n",
       "      <th>게시글번호</th>\n",
       "      <th>기준일</th>\n",
       "      <th>기준시간</th>\n",
       "      <th>수정일시</th>\n",
       "      <th>누적의심자</th>\n",
       "      <th>누적확진율</th>\n",
       "      <th>일일확진자</th>\n",
       "      <th>일일사망자</th>\n",
       "      <th>요일</th>\n",
       "    </tr>\n",
       "  </thead>\n",
       "  <tbody>\n",
       "    <tr>\n",
       "      <th>0</th>\n",
       "      <td>2020-03-10 00:00:00.000</td>\n",
       "      <td>54</td>\n",
       "      <td>7513</td>\n",
       "      <td>51</td>\n",
       "      <td>2020-03-10</td>\n",
       "      <td>00:00</td>\n",
       "      <td>2021-10-07 10:30:51.51</td>\n",
       "      <td>210144.0</td>\n",
       "      <td>3.919308</td>\n",
       "      <td>0.0</td>\n",
       "      <td>0.0</td>\n",
       "      <td>화</td>\n",
       "    </tr>\n",
       "    <tr>\n",
       "      <th>1</th>\n",
       "      <td>2020-03-11 00:00:00.000</td>\n",
       "      <td>60</td>\n",
       "      <td>7755</td>\n",
       "      <td>52</td>\n",
       "      <td>2020-03-11</td>\n",
       "      <td>00:00</td>\n",
       "      <td>2021-10-07 10:30:51.51</td>\n",
       "      <td>222395.0</td>\n",
       "      <td>3.804175</td>\n",
       "      <td>242.0</td>\n",
       "      <td>6.0</td>\n",
       "      <td>수</td>\n",
       "    </tr>\n",
       "    <tr>\n",
       "      <th>2</th>\n",
       "      <td>2020-03-12 00:00:00.000</td>\n",
       "      <td>66</td>\n",
       "      <td>7869</td>\n",
       "      <td>53</td>\n",
       "      <td>2020-03-12</td>\n",
       "      <td>00:00</td>\n",
       "      <td>2021-10-07 10:30:51.51</td>\n",
       "      <td>234998.0</td>\n",
       "      <td>3.621744</td>\n",
       "      <td>114.0</td>\n",
       "      <td>6.0</td>\n",
       "      <td>목</td>\n",
       "    </tr>\n",
       "    <tr>\n",
       "      <th>3</th>\n",
       "      <td>2020-03-13 00:00:00.000</td>\n",
       "      <td>67</td>\n",
       "      <td>7979</td>\n",
       "      <td>54</td>\n",
       "      <td>2020-03-13</td>\n",
       "      <td>00:00</td>\n",
       "      <td>2021-10-07 10:30:51.51</td>\n",
       "      <td>248647.0</td>\n",
       "      <td>3.458499</td>\n",
       "      <td>110.0</td>\n",
       "      <td>1.0</td>\n",
       "      <td>금</td>\n",
       "    </tr>\n",
       "    <tr>\n",
       "      <th>4</th>\n",
       "      <td>2020-03-14 00:00:00.000</td>\n",
       "      <td>72</td>\n",
       "      <td>8086</td>\n",
       "      <td>55</td>\n",
       "      <td>2020-03-14</td>\n",
       "      <td>00:00</td>\n",
       "      <td>2021-10-07 10:30:51.51</td>\n",
       "      <td>261335.0</td>\n",
       "      <td>3.318000</td>\n",
       "      <td>107.0</td>\n",
       "      <td>5.0</td>\n",
       "      <td>토</td>\n",
       "    </tr>\n",
       "    <tr>\n",
       "      <th>...</th>\n",
       "      <td>...</td>\n",
       "      <td>...</td>\n",
       "      <td>...</td>\n",
       "      <td>...</td>\n",
       "      <td>...</td>\n",
       "      <td>...</td>\n",
       "      <td>...</td>\n",
       "      <td>...</td>\n",
       "      <td>...</td>\n",
       "      <td>...</td>\n",
       "      <td>...</td>\n",
       "      <td>...</td>\n",
       "    </tr>\n",
       "    <tr>\n",
       "      <th>814</th>\n",
       "      <td>2022-06-03 09:08:18.729</td>\n",
       "      <td>24229</td>\n",
       "      <td>18141775</td>\n",
       "      <td>899</td>\n",
       "      <td>2022-06-03</td>\n",
       "      <td>00:00</td>\n",
       "      <td>2022-06-08 09:11:38.938</td>\n",
       "      <td>21518073.0</td>\n",
       "      <td>NaN</td>\n",
       "      <td>12539.0</td>\n",
       "      <td>17.0</td>\n",
       "      <td>금</td>\n",
       "    </tr>\n",
       "    <tr>\n",
       "      <th>815</th>\n",
       "      <td>2022-06-04 08:56:49.219</td>\n",
       "      <td>24238</td>\n",
       "      <td>18153814</td>\n",
       "      <td>900</td>\n",
       "      <td>2022-06-04</td>\n",
       "      <td>00:00</td>\n",
       "      <td>2022-06-08 09:11:26.303</td>\n",
       "      <td>21518073.0</td>\n",
       "      <td>NaN</td>\n",
       "      <td>12039.0</td>\n",
       "      <td>9.0</td>\n",
       "      <td>토</td>\n",
       "    </tr>\n",
       "    <tr>\n",
       "      <th>816</th>\n",
       "      <td>2022-06-05 08:53:19.426</td>\n",
       "      <td>24258</td>\n",
       "      <td>18163648</td>\n",
       "      <td>901</td>\n",
       "      <td>2022-06-05</td>\n",
       "      <td>00:00</td>\n",
       "      <td>2022-06-08 09:11:04.758</td>\n",
       "      <td>21518073.0</td>\n",
       "      <td>NaN</td>\n",
       "      <td>9834.0</td>\n",
       "      <td>20.0</td>\n",
       "      <td>일</td>\n",
       "    </tr>\n",
       "    <tr>\n",
       "      <th>817</th>\n",
       "      <td>2022-06-06 09:00:06.734</td>\n",
       "      <td>24279</td>\n",
       "      <td>18168670</td>\n",
       "      <td>902</td>\n",
       "      <td>2022-06-06</td>\n",
       "      <td>00:00</td>\n",
       "      <td>2022-06-08 09:10:50.441</td>\n",
       "      <td>21518073.0</td>\n",
       "      <td>NaN</td>\n",
       "      <td>5022.0</td>\n",
       "      <td>21.0</td>\n",
       "      <td>월</td>\n",
       "    </tr>\n",
       "    <tr>\n",
       "      <th>818</th>\n",
       "      <td>2022-06-08 09:09:05.982</td>\n",
       "      <td>24305</td>\n",
       "      <td>18188200</td>\n",
       "      <td>904</td>\n",
       "      <td>2022-06-08</td>\n",
       "      <td>00:00</td>\n",
       "      <td>NaN</td>\n",
       "      <td>21518073.0</td>\n",
       "      <td>NaN</td>\n",
       "      <td>19530.0</td>\n",
       "      <td>26.0</td>\n",
       "      <td>수</td>\n",
       "    </tr>\n",
       "  </tbody>\n",
       "</table>\n",
       "<p>819 rows × 12 columns</p>\n",
       "</div>"
      ],
      "text/plain": [
       "                        등록일시   총사망자      총확진자  게시글번호         기준일   기준시간  \\\n",
       "0    2020-03-10 00:00:00.000     54      7513     51  2020-03-10  00:00   \n",
       "1    2020-03-11 00:00:00.000     60      7755     52  2020-03-11  00:00   \n",
       "2    2020-03-12 00:00:00.000     66      7869     53  2020-03-12  00:00   \n",
       "3    2020-03-13 00:00:00.000     67      7979     54  2020-03-13  00:00   \n",
       "4    2020-03-14 00:00:00.000     72      8086     55  2020-03-14  00:00   \n",
       "..                       ...    ...       ...    ...         ...    ...   \n",
       "814  2022-06-03 09:08:18.729  24229  18141775    899  2022-06-03  00:00   \n",
       "815  2022-06-04 08:56:49.219  24238  18153814    900  2022-06-04  00:00   \n",
       "816  2022-06-05 08:53:19.426  24258  18163648    901  2022-06-05  00:00   \n",
       "817  2022-06-06 09:00:06.734  24279  18168670    902  2022-06-06  00:00   \n",
       "818  2022-06-08 09:09:05.982  24305  18188200    904  2022-06-08  00:00   \n",
       "\n",
       "                        수정일시       누적의심자     누적확진율    일일확진자  일일사망자 요일  \n",
       "0     2021-10-07 10:30:51.51    210144.0  3.919308      0.0    0.0  화  \n",
       "1     2021-10-07 10:30:51.51    222395.0  3.804175    242.0    6.0  수  \n",
       "2     2021-10-07 10:30:51.51    234998.0  3.621744    114.0    6.0  목  \n",
       "3     2021-10-07 10:30:51.51    248647.0  3.458499    110.0    1.0  금  \n",
       "4     2021-10-07 10:30:51.51    261335.0  3.318000    107.0    5.0  토  \n",
       "..                       ...         ...       ...      ...    ... ..  \n",
       "814  2022-06-08 09:11:38.938  21518073.0       NaN  12539.0   17.0  금  \n",
       "815  2022-06-08 09:11:26.303  21518073.0       NaN  12039.0    9.0  토  \n",
       "816  2022-06-08 09:11:04.758  21518073.0       NaN   9834.0   20.0  일  \n",
       "817  2022-06-08 09:10:50.441  21518073.0       NaN   5022.0   21.0  월  \n",
       "818                      NaN  21518073.0       NaN  19530.0   26.0  수  \n",
       "\n",
       "[819 rows x 12 columns]"
      ]
     },
     "execution_count": 258,
     "metadata": {},
     "output_type": "execute_result"
    }
   ],
   "source": [
    "# enconding이 cp949인 데이터를 로드 \n",
    "pd.read_csv(\"./corona.csv\", encoding='cp949')"
   ]
  }
 ],
 "metadata": {
  "kernelspec": {
   "display_name": "Python 3",
   "language": "python",
   "name": "python3"
  },
  "language_info": {
   "codemirror_mode": {
    "name": "ipython",
    "version": 3
   },
   "file_extension": ".py",
   "mimetype": "text/x-python",
   "name": "python",
   "nbconvert_exporter": "python",
   "pygments_lexer": "ipython3",
   "version": "3.11.5"
  },
  "orig_nbformat": 4
 },
 "nbformat": 4,
 "nbformat_minor": 2
}
