{
 "cells": [
  {
   "cell_type": "code",
   "execution_count": null,
   "metadata": {},
   "outputs": [],
   "source": [
    "!pip install requests"
   ]
  },
  {
   "cell_type": "code",
   "execution_count": null,
   "metadata": {},
   "outputs": [],
   "source": [
    "import requests"
   ]
  },
  {
   "cell_type": "code",
   "execution_count": null,
   "metadata": {},
   "outputs": [],
   "source": [
    "url = \"http://www.naver.com\""
   ]
  },
  {
   "cell_type": "markdown",
   "metadata": {},
   "source": [
    "### 통신 방식\n",
    "- get\n",
    "    - 가장 일반적으로 사용하는 통신 방식\n",
    "    - 웹 브라우져에서 주소창에 주소를 입력하고 요청을 보내는 방식\n",
    "    - 유저가 서버에게 데이터를 보내는 경우 주소 뒤에 ?로 데이터의 시작을 알리고 key=value의 형태로 데이터를 보낸다\n",
    "    - 유저가 입력한 데이터가 주소창에 노출이 됨으로 보안상의 문제가 발생할 수 있다.\n",
    "    - 속도는 가장 빠르다.\n",
    "    - 주소창에 데이터를 보내기 때문에 데이터의 길이가 제한(max 255자)\n",
    "- post\n",
    "    - get 방식에서 보안적인 측면에서 강화한 데이터 통신 방식\n",
    "    - 유저가 보내는 데이터를 body라는 부분에 숨겨서 데이터를 보내는 방식\n",
    "    - 데이터의 길이 제한이 없다. \n",
    "    - 데이터가 노출이 되지 않기 때문에 보안적으로 뛰어나다. \n",
    "    - 웹 브라우져에서 일반적인 주소창에 주소를 입력하는 방식으로 접속이 불가능\n",
    "    - get 방식에 비해 속도가 느리다. \n"
   ]
  },
  {
   "cell_type": "code",
   "execution_count": null,
   "metadata": {},
   "outputs": [],
   "source": [
    "response = requests.get(url)"
   ]
  },
  {
   "cell_type": "code",
   "execution_count": null,
   "metadata": {},
   "outputs": [],
   "source": [
    "print(response.text)"
   ]
  },
  {
   "cell_type": "code",
   "execution_count": null,
   "metadata": {},
   "outputs": [],
   "source": [
    "html_data = response.text"
   ]
  },
  {
   "cell_type": "code",
   "execution_count": null,
   "metadata": {},
   "outputs": [],
   "source": [
    "# 문자열에서 특정 문자의 위치는 출력하는 함수 \n",
    "html_data.find('네이버')"
   ]
  },
  {
   "cell_type": "code",
   "execution_count": null,
   "metadata": {},
   "outputs": [],
   "source": [
    "html_data[378:381]"
   ]
  },
  {
   "cell_type": "markdown",
   "metadata": {},
   "source": [
    "# beautifulsoup 라이브러리 \n",
    "1. html Tag로 이루어진 문자열 데이터를 파싱하여 데이터를 쉽게 추출하기 위한 라이브러리 \n",
    "2. 웹의 구조를 어느 정도 파악하고 사용하면 쉽게 데이터를 추출 \n",
    "3. Parser를 활용하여 python에서 접근이 쉽게 객체 형태로 제공"
   ]
  },
  {
   "cell_type": "code",
   "execution_count": null,
   "metadata": {},
   "outputs": [],
   "source": [
    "!pip install bs4"
   ]
  },
  {
   "cell_type": "code",
   "execution_count": null,
   "metadata": {},
   "outputs": [],
   "source": [
    "# 라이브러리 로드 \n",
    "from bs4 import BeautifulSoup as bs"
   ]
  },
  {
   "cell_type": "code",
   "execution_count": null,
   "metadata": {},
   "outputs": [],
   "source": [
    "# 파싱 작업 (데이터의 형태를 변환 : beautisoup라이브러리에서 사용이 가능한 형태로)\n",
    "soup = bs(html_data, 'html.parser')\n",
    "soup"
   ]
  },
  {
   "cell_type": "code",
   "execution_count": null,
   "metadata": {},
   "outputs": [],
   "source": [
    "print(type(html_data))\n",
    "print(type(soup))"
   ]
  },
  {
   "cell_type": "markdown",
   "metadata": {},
   "source": [
    "- 태그의 이름을 사용하여 검색\n",
    "    - soup.태그명 : 해당 태그의 첫번째 정보를 출력\n",
    "    - soup.태그명.string : 첫번째 태그의 문자열을 출력\n",
    "    - soup.태그명['속성명'] : 첫번째 태그의 속성의 값을 출력"
   ]
  },
  {
   "cell_type": "code",
   "execution_count": null,
   "metadata": {},
   "outputs": [],
   "source": [
    "# title이라는 태그의 정보를 출력\n",
    "print(soup.title)\n",
    "print(soup.title.string)"
   ]
  },
  {
   "cell_type": "code",
   "execution_count": null,
   "metadata": {},
   "outputs": [],
   "source": [
    "print(soup.p['class'])"
   ]
  },
  {
   "cell_type": "markdown",
   "metadata": {},
   "source": [
    "- find()\n",
    "    - html 문자열 안에서 해당 태그의 첫 번째 정보를 출력\n",
    "    - find(속성 = 값) : 태그들 중 해당 속성의 값과 같은 태그의 첫 번째 정보를 출력\n",
    "- find_all()\n",
    "    - html 문자열 안에서 해당 태그의 모든 정보를 리스트 형태로 출력\n",
    "    - limit 매개변수 : 리스트의 길이를 지정"
   ]
  },
  {
   "cell_type": "code",
   "execution_count": null,
   "metadata": {},
   "outputs": [],
   "source": [
    "soup.find('a')"
   ]
  },
  {
   "cell_type": "code",
   "execution_count": null,
   "metadata": {},
   "outputs": [],
   "source": [
    "# a태그들의 모든 정보를 출력\n",
    "a_list = soup.find_all('a')"
   ]
  },
  {
   "cell_type": "code",
   "execution_count": null,
   "metadata": {},
   "outputs": [],
   "source": [
    "# a태그들의 문자로만 이루어진 배열 데이터를 생성\n",
    "\n",
    "# find_all()에서는 get_text() 사용 불가능\n",
    "# 리스트의 각 항목들에서는 get_text() 사용 가능\n",
    "# 반복문을 이용하여 각 항목들을 대입하여 get_text()를 사용하여 문자열을 새로운 리스트에 추가 \n",
    "\n",
    "# 새로운 리스트 변수를 생성 \n",
    "a_result = []\n",
    "\n",
    "for i in a_list:\n",
    "    # i : a_list의 각 항목들이 대입\n",
    "    a_result.append(i.get_text())\n",
    "\n",
    "a_result"
   ]
  },
  {
   "cell_type": "code",
   "execution_count": null,
   "metadata": {},
   "outputs": [],
   "source": [
    "# map( 함수(행동) , 자료형데이터 )\n",
    "list(map(\n",
    "    lambda x : x.get_text(), \n",
    "    a_list\n",
    "))"
   ]
  },
  {
   "cell_type": "code",
   "execution_count": null,
   "metadata": {},
   "outputs": [],
   "source": [
    "def change(x):\n",
    "    return x.get_text()\n",
    "\n",
    "list(map(\n",
    "    change, \n",
    "    a_list\n",
    "))"
   ]
  },
  {
   "cell_type": "markdown",
   "metadata": {},
   "source": [
    "# 네이버쇼핑에서 데이터 크롤링 하기"
   ]
  },
  {
   "cell_type": "code",
   "execution_count": null,
   "metadata": {},
   "outputs": [],
   "source": [
    "url = \"https://search.shopping.naver.com/search/all?query=%EC%95%84%EC%9D%B4%ED%8C%A8%EB%93%9C&bt=-1&frm=NVSCPRO\"\n",
    "\n",
    "response = requests.get(url)\n",
    "\n",
    "# response의 html data만 변수에 대입\n",
    "html_data = response.text\n",
    "\n",
    "print(html_data)\n"
   ]
  },
  {
   "cell_type": "code",
   "execution_count": null,
   "metadata": {},
   "outputs": [],
   "source": [
    "# BeautifilSoup을 이용하여 데이터 파싱\n",
    "soup = bs(html_data, 'html.parser')"
   ]
  },
  {
   "cell_type": "code",
   "execution_count": null,
   "metadata": {},
   "outputs": [],
   "source": [
    "div_data = soup.find(\"div\", attrs={\n",
    "    'class' : 'basicList_list_basis__uNBZx'\n",
    "})"
   ]
  },
  {
   "cell_type": "code",
   "execution_count": null,
   "metadata": {},
   "outputs": [],
   "source": [
    "div_data.find('div', attrs={\n",
    "    'class' : 'adProduct_title__amInq'\n",
    "}).get_text()"
   ]
  },
  {
   "cell_type": "code",
   "execution_count": null,
   "metadata": {},
   "outputs": [],
   "source": [
    "ad_title_list = div_data.find_all('div', attrs={\n",
    "    'class' : 'adProduct_title__amInq'\n",
    "})"
   ]
  },
  {
   "cell_type": "code",
   "execution_count": null,
   "metadata": {},
   "outputs": [],
   "source": [
    "title = []\n",
    "for t in ad_title_list:\n",
    "    title.append(t.get_text())\n",
    "title"
   ]
  },
  {
   "cell_type": "code",
   "execution_count": null,
   "metadata": {},
   "outputs": [],
   "source": [
    "ad_price_list = div_data.find_all('span', attrs = {\n",
    "    'class' : 'price_num__S2p_v'\n",
    "})\n",
    "ad_price_list"
   ]
  },
  {
   "cell_type": "code",
   "execution_count": null,
   "metadata": {},
   "outputs": [],
   "source": [
    "price_list = list(map(\n",
    "    lambda x : x.get_text(), \n",
    "    ad_price_list\n",
    "))\n",
    "\n",
    "price_list"
   ]
  },
  {
   "cell_type": "code",
   "execution_count": null,
   "metadata": {},
   "outputs": [],
   "source": [
    "# 리스트의 마지막 항목을 삭제 \n",
    "price_list.pop()\n",
    "price_list"
   ]
  },
  {
   "cell_type": "code",
   "execution_count": null,
   "metadata": {},
   "outputs": [],
   "source": [
    "ad_img_list = div_data.find_all('img')"
   ]
  },
  {
   "cell_type": "code",
   "execution_count": null,
   "metadata": {},
   "outputs": [],
   "source": [
    "# img 태그 안에 src 속성 값을 출력\n",
    "img_list = list(map(\n",
    "    lambda x : x[\"src\"], \n",
    "    ad_img_list\n",
    "))\n",
    "img_list"
   ]
  },
  {
   "cell_type": "code",
   "execution_count": null,
   "metadata": {},
   "outputs": [],
   "source": [
    "div_data.find('a', attrs ={\n",
    "    'class': 'thumbnail_thumb__Bxb6Z'\n",
    "})"
   ]
  },
  {
   "cell_type": "code",
   "execution_count": null,
   "metadata": {},
   "outputs": [],
   "source": [
    "import pandas as pd"
   ]
  },
  {
   "cell_type": "code",
   "execution_count": null,
   "metadata": {},
   "outputs": [],
   "source": [
    "title"
   ]
  },
  {
   "cell_type": "code",
   "execution_count": null,
   "metadata": {},
   "outputs": [],
   "source": [
    "price_list"
   ]
  },
  {
   "cell_type": "code",
   "execution_count": null,
   "metadata": {},
   "outputs": [],
   "source": [
    "# 데이터프레임으로 해당하는 데이터들을 삽입\n",
    "pd.DataFrame([title, price_list])"
   ]
  },
  {
   "cell_type": "code",
   "execution_count": null,
   "metadata": {},
   "outputs": [],
   "source": [
    "df = pd.DataFrame({\n",
    "    'title' : title, \n",
    "    'price' : price_list\n",
    "})"
   ]
  },
  {
   "cell_type": "code",
   "execution_count": 79,
   "metadata": {},
   "outputs": [],
   "source": [
    "df.to_csv('data.csv', encoding='cp949', index=False)"
   ]
  }
 ],
 "metadata": {
  "kernelspec": {
   "display_name": "Python 3",
   "language": "python",
   "name": "python3"
  },
  "language_info": {
   "codemirror_mode": {
    "name": "ipython",
    "version": 3
   },
   "file_extension": ".py",
   "mimetype": "text/x-python",
   "name": "python",
   "nbconvert_exporter": "python",
   "pygments_lexer": "ipython3",
   "version": "3.11.5"
  }
 },
 "nbformat": 4,
 "nbformat_minor": 2
}
