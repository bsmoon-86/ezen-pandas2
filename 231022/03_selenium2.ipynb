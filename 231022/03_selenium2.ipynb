{
 "cells": [
  {
   "cell_type": "code",
   "execution_count": null,
   "metadata": {},
   "outputs": [],
   "source": [
    "from selenium import webdriver\n",
    "from selenium.webdriver.common.by import By\n",
    "from selenium.webdriver.common.keys import Keys\n",
    "from bs4 import BeautifulSoup as bs\n",
    "import pandas as pd"
   ]
  },
  {
   "cell_type": "code",
   "execution_count": null,
   "metadata": {},
   "outputs": [],
   "source": [
    "# 웹드라이버를 오픈 \n",
    "driver = webdriver.Chrome()"
   ]
  },
  {
   "cell_type": "code",
   "execution_count": null,
   "metadata": {},
   "outputs": [],
   "source": [
    "# 웹드라이버에 네이버로 접속\n",
    "driver.get('http://www.naver.com')"
   ]
  },
  {
   "cell_type": "code",
   "execution_count": null,
   "metadata": {},
   "outputs": [],
   "source": [
    "# 검색어창 태그를 선택\n",
    "element = driver.find_element(By.ID, 'query')"
   ]
  },
  {
   "cell_type": "code",
   "execution_count": null,
   "metadata": {},
   "outputs": [],
   "source": [
    "# 검색어창에 특정 문자열 입력\n",
    "element.send_keys('트립어드바이저')"
   ]
  },
  {
   "cell_type": "code",
   "execution_count": null,
   "metadata": {},
   "outputs": [],
   "source": [
    "# 검색어창에서 ENTER키 이벤트 발생\n",
    "element.send_keys(Keys.ENTER)"
   ]
  },
  {
   "cell_type": "code",
   "execution_count": null,
   "metadata": {},
   "outputs": [],
   "source": [
    "# class가 link_name인 태그를 선택\n",
    "element2 = driver.find_element(By.CLASS_NAME, 'link_name')"
   ]
  },
  {
   "cell_type": "code",
   "execution_count": null,
   "metadata": {},
   "outputs": [],
   "source": [
    "# element2를 클릭 이벤트 발생\n",
    "element2.click()"
   ]
  },
  {
   "cell_type": "code",
   "execution_count": null,
   "metadata": {},
   "outputs": [],
   "source": [
    "# 자식창으로 이동 \n",
    "all_windows = driver.window_handles\n",
    "driver.switch_to.window(all_windows[1])"
   ]
  },
  {
   "cell_type": "code",
   "execution_count": null,
   "metadata": {},
   "outputs": [],
   "source": [
    "# name이 q인 태그를 선택\n",
    "element3 = driver.find_element(By.NAME, 'q')"
   ]
  },
  {
   "cell_type": "code",
   "execution_count": null,
   "metadata": {},
   "outputs": [],
   "source": [
    "# element3에 특정 문자열을 입력\n",
    "element3.send_keys('에든버러')"
   ]
  },
  {
   "cell_type": "code",
   "execution_count": null,
   "metadata": {},
   "outputs": [],
   "source": [
    "element3.send_keys(Keys.ENTER)"
   ]
  },
  {
   "cell_type": "code",
   "execution_count": null,
   "metadata": {},
   "outputs": [],
   "source": [
    "soup = bs(driver.page_source, 'html.parser')"
   ]
  },
  {
   "cell_type": "code",
   "execution_count": null,
   "metadata": {},
   "outputs": [],
   "source": [
    "# div 태그중 class의 값이 prw_search_search_results인 태그의 정보를 추출\n",
    "div_data = soup.find('div', attrs={\n",
    "    'class' : 'prw_search_search_results'\n",
    "})\n",
    "div_data"
   ]
  },
  {
   "cell_type": "code",
   "execution_count": null,
   "metadata": {},
   "outputs": [],
   "source": [
    "div_data2 = div_data.find('div', attrs={\n",
    "    'class' : 'is-multiline'\n",
    "})\n",
    "div_data2"
   ]
  },
  {
   "cell_type": "code",
   "execution_count": null,
   "metadata": {},
   "outputs": [],
   "source": [
    "# div_data2에서 class가 result-title인 태그를 모두 찾는다. \n",
    "title_list = div_data2.find_all('div', attrs={\n",
    "    'class' : 'result-title'\n",
    "})\n",
    "title_list"
   ]
  },
  {
   "cell_type": "code",
   "execution_count": null,
   "metadata": {},
   "outputs": [],
   "source": [
    "title = []\n",
    "\n",
    "for i in title_list:\n",
    "    title.append(i.get_text())\n",
    "title"
   ]
  },
  {
   "cell_type": "code",
   "execution_count": null,
   "metadata": {},
   "outputs": [],
   "source": [
    "list(map(\n",
    "    lambda x : x.get_text(), \n",
    "    title_list\n",
    "))"
   ]
  },
  {
   "cell_type": "code",
   "execution_count": null,
   "metadata": {},
   "outputs": [],
   "source": [
    "# img 주소를 추출하기 위해서 div태그 중 class가 is-shown-at-desktop인 데이터를 모두 추출\n",
    "img_list = div_data2.find_all('div', attrs={\n",
    "    'class' : 'is-shown-at-desktop'\n",
    "})\n",
    "img_list"
   ]
  },
  {
   "cell_type": "code",
   "execution_count": null,
   "metadata": {},
   "outputs": [],
   "source": [
    "# img_list에서 style 속성의 값들을 모두 출력\n",
    "img = list(map(\n",
    "    lambda x : x.find('div', attrs={\n",
    "        'class' : 'inner'\n",
    "    })['style'], \n",
    "    img_list\n",
    "))\n",
    "img"
   ]
  },
  {
   "cell_type": "code",
   "execution_count": 65,
   "metadata": {},
   "outputs": [],
   "source": [
    "# title과 img 데이터를 데이터프레임을 변경 excel로 저장\n",
    "img2 = list(map(\n",
    "    lambda x : x.replace(\"background-image:url(\", \"\").replace(\");\", \"\"), \n",
    "    img\n",
    "))"
   ]
  },
  {
   "cell_type": "code",
   "execution_count": 66,
   "metadata": {},
   "outputs": [
    {
     "data": {
      "text/plain": [
       "['https://media-cdn.tripadvisor.com/media/photo-s/22/47/db/ac/caption.jpg',\n",
       " 'https://media-cdn.tripadvisor.com/media/photo-s/14/ff/32/2a/edinburgh-castle.jpg',\n",
       " 'https://media-cdn.tripadvisor.com/media/photo-o/03/ed/61/6b/adicionar-uma-legenda.jpg',\n",
       " 'https://media-cdn.tripadvisor.com/media/photo-s/08/0f/44/c2/view-from-calton-hill.jpg',\n",
       " 'https://media-cdn.tripadvisor.com/media/photo-s/02/b4/08/aa/72-000-square-feet-600.jpg',\n",
       " 'https://media-cdn.tripadvisor.com/media/photo-s/17/29/c9/7c/scott-monument.jpg',\n",
       " 'https://media-cdn.tripadvisor.com/media/photo-s/1a/ed/7d/d7/traditional-skirl-vegetarian.jpg',\n",
       " 'https://media-cdn.tripadvisor.com/media/photo-s/0e/72/89/e7/edinburgh-old-town.jpg',\n",
       " 'https://media-cdn.tripadvisor.com/media/photo-s/2a/17/26/ab/motel-one-edinburgh-royal.jpg',\n",
       " 'https://media-cdn.tripadvisor.com/media/photo-s/0f/a4/5a/93/princes-street-gardens.jpg',\n",
       " 'https://media-cdn.tripadvisor.com/media/photo-s/14/8d/a0/61/castle-rock.jpg',\n",
       " 'https://media-cdn.tripadvisor.com/media/photo-s/10/64/09/5a/2017-royal-edinburgh.jpg',\n",
       " 'https://media-cdn.tripadvisor.com/media/photo-s/0e/8c/f8/8b/la-piazza-e-propsio-sotto.jpg',\n",
       " 'https://media-cdn.tripadvisor.com/media/photo-s/2a/a0/49/0b/exterior-view.jpg',\n",
       " 'https://media-cdn.tripadvisor.com/media/photo-s/0c/84/06/ff/summer-in-holyrood.jpg',\n",
       " 'https://media-cdn.tripadvisor.com/media/photo-s/0d/00/df/a4/palace-of-holyroodhouse.jpg',\n",
       " 'https://media-cdn.tripadvisor.com/media/photo-s/18/27/30/16/the-grill-room.jpg',\n",
       " 'https://media-cdn.tripadvisor.com/media/photo-s/13/84/b5/ef/edinburgh-waverley-station.jpg',\n",
       " 'https://media-cdn.tripadvisor.com/media/photo-s/14/c6/af/84/20180924-092302-hdr-largejpg.jpg',\n",
       " 'https://media-cdn.tripadvisor.com/media/photo-s/13/7d/32/71/the-bar.jpg',\n",
       " 'https://media-cdn.tripadvisor.com/media/photo-s/13/b0/f3/9a/the-great-hall-1.jpg',\n",
       " 'https://media-cdn.tripadvisor.com/media/photo-s/14/8d/90/aa/st-margaret-s-chapel.jpg',\n",
       " 'https://media-cdn.tripadvisor.com/media/oyster/500/07/7d/f9/1f/breakfast-room--v5734038.jpg',\n",
       " 'https://media-cdn.tripadvisor.com/media/photo-s/21/a6/da/aa/festive-afternoon-tea.jpg',\n",
       " 'https://media-cdn.tripadvisor.com/media/photo-s/11/2e/be/22/the-milkman.jpg',\n",
       " 'https://media-cdn.tripadvisor.com/media/photo-s/1d/b2/b8/52/exterior-view.jpg',\n",
       " 'https://media-cdn.tripadvisor.com/media/photo-s/24/ff/16/12/exterior.jpg',\n",
       " 'https://media-cdn.tripadvisor.com/media/photo-s/2a/8d/84/05/exterior-view.jpg',\n",
       " 'https://media-cdn.tripadvisor.com/media/photo-s/04/cb/fd/b3/kims-mini-meals.jpg',\n",
       " 'https://media-cdn.tripadvisor.com/media/photo-s/2a/1c/63/8f/executive-king-with-view.jpg']"
      ]
     },
     "execution_count": 66,
     "metadata": {},
     "output_type": "execute_result"
    }
   ],
   "source": [
    "# img2에 중복된 데이터들이 3개씩 존재한다. 중복된 데이터를 모두 삭제하고 고유한 값들만이 존재하는 리스트로 생성\n",
    "img3 = []\n",
    "\n",
    "for i in img2:\n",
    "    if i not in img3:\n",
    "        img3.append(i)\n",
    "img3"
   ]
  },
  {
   "cell_type": "code",
   "execution_count": 67,
   "metadata": {},
   "outputs": [
    {
     "data": {
      "text/plain": [
       "30"
      ]
     },
     "execution_count": 67,
     "metadata": {},
     "output_type": "execute_result"
    }
   ],
   "source": [
    "len(img3)"
   ]
  },
  {
   "cell_type": "code",
   "execution_count": 68,
   "metadata": {},
   "outputs": [
    {
     "data": {
      "text/plain": [
       "['https://media-cdn.tripadvisor.com/media/photo-s/13/7d/32/71/the-bar.jpg',\n",
       " 'https://media-cdn.tripadvisor.com/media/photo-s/17/29/c9/7c/scott-monument.jpg',\n",
       " 'https://media-cdn.tripadvisor.com/media/photo-s/0c/84/06/ff/summer-in-holyrood.jpg',\n",
       " 'https://media-cdn.tripadvisor.com/media/photo-s/02/b4/08/aa/72-000-square-feet-600.jpg',\n",
       " 'https://media-cdn.tripadvisor.com/media/photo-s/1a/ed/7d/d7/traditional-skirl-vegetarian.jpg',\n",
       " 'https://media-cdn.tripadvisor.com/media/photo-s/14/ff/32/2a/edinburgh-castle.jpg',\n",
       " 'https://media-cdn.tripadvisor.com/media/photo-s/22/47/db/ac/caption.jpg',\n",
       " 'https://media-cdn.tripadvisor.com/media/photo-s/14/8d/90/aa/st-margaret-s-chapel.jpg',\n",
       " 'https://media-cdn.tripadvisor.com/media/photo-s/14/c6/af/84/20180924-092302-hdr-largejpg.jpg',\n",
       " 'https://media-cdn.tripadvisor.com/media/photo-s/14/8d/a0/61/castle-rock.jpg',\n",
       " 'https://media-cdn.tripadvisor.com/media/photo-s/2a/1c/63/8f/executive-king-with-view.jpg',\n",
       " 'https://media-cdn.tripadvisor.com/media/photo-s/04/cb/fd/b3/kims-mini-meals.jpg',\n",
       " 'https://media-cdn.tripadvisor.com/media/photo-s/08/0f/44/c2/view-from-calton-hill.jpg',\n",
       " 'https://media-cdn.tripadvisor.com/media/photo-s/0e/72/89/e7/edinburgh-old-town.jpg',\n",
       " 'https://media-cdn.tripadvisor.com/media/photo-s/2a/a0/49/0b/exterior-view.jpg',\n",
       " 'https://media-cdn.tripadvisor.com/media/photo-s/11/2e/be/22/the-milkman.jpg',\n",
       " 'https://media-cdn.tripadvisor.com/media/photo-s/0e/8c/f8/8b/la-piazza-e-propsio-sotto.jpg',\n",
       " 'https://media-cdn.tripadvisor.com/media/photo-s/0f/a4/5a/93/princes-street-gardens.jpg',\n",
       " 'https://media-cdn.tripadvisor.com/media/photo-s/13/84/b5/ef/edinburgh-waverley-station.jpg',\n",
       " 'https://media-cdn.tripadvisor.com/media/photo-s/0d/00/df/a4/palace-of-holyroodhouse.jpg',\n",
       " 'https://media-cdn.tripadvisor.com/media/oyster/500/07/7d/f9/1f/breakfast-room--v5734038.jpg',\n",
       " 'https://media-cdn.tripadvisor.com/media/photo-s/24/ff/16/12/exterior.jpg',\n",
       " 'https://media-cdn.tripadvisor.com/media/photo-s/18/27/30/16/the-grill-room.jpg',\n",
       " 'https://media-cdn.tripadvisor.com/media/photo-s/21/a6/da/aa/festive-afternoon-tea.jpg',\n",
       " 'https://media-cdn.tripadvisor.com/media/photo-s/2a/8d/84/05/exterior-view.jpg',\n",
       " 'https://media-cdn.tripadvisor.com/media/photo-s/13/b0/f3/9a/the-great-hall-1.jpg',\n",
       " 'https://media-cdn.tripadvisor.com/media/photo-o/03/ed/61/6b/adicionar-uma-legenda.jpg',\n",
       " 'https://media-cdn.tripadvisor.com/media/photo-s/1d/b2/b8/52/exterior-view.jpg',\n",
       " 'https://media-cdn.tripadvisor.com/media/photo-s/10/64/09/5a/2017-royal-edinburgh.jpg',\n",
       " 'https://media-cdn.tripadvisor.com/media/photo-s/2a/17/26/ab/motel-one-edinburgh-royal.jpg']"
      ]
     },
     "execution_count": 68,
     "metadata": {},
     "output_type": "execute_result"
    }
   ],
   "source": [
    "# 중복된 데이터 삭제 : 집합형 데이터로 변경 -> 배열 데이터 변경\n",
    "list(set(img2))"
   ]
  },
  {
   "cell_type": "code",
   "execution_count": null,
   "metadata": {},
   "outputs": [],
   "source": [
    "df = pd.DataFrame({\n",
    "    'title' : title, \n",
    "    'img' : img3\n",
    "})\n",
    "df"
   ]
  },
  {
   "cell_type": "code",
   "execution_count": 71,
   "metadata": {},
   "outputs": [],
   "source": [
    "df.to_excel('에든버러.xlsx', index=False)"
   ]
  },
  {
   "cell_type": "code",
   "execution_count": 82,
   "metadata": {},
   "outputs": [
    {
     "data": {
      "text/plain": [
       "<module 'tripadvisor' from 'd:\\\\python\\\\ezen-pandas2\\\\231022\\\\tripadvisor.py'>"
      ]
     },
     "execution_count": 82,
     "metadata": {},
     "output_type": "execute_result"
    }
   ],
   "source": [
    "import tripadvisor\n",
    "\n",
    "import imp\n",
    "\n",
    "imp.reload(tripadvisor)"
   ]
  },
  {
   "cell_type": "code",
   "execution_count": 83,
   "metadata": {},
   "outputs": [],
   "source": [
    "a = tripadvisor.Trip('워싱턴')"
   ]
  },
  {
   "cell_type": "code",
   "execution_count": 84,
   "metadata": {},
   "outputs": [
    {
     "data": {
      "text/plain": [
       "<coroutine object Trip.save_excel at 0x0000020A33959BC0>"
      ]
     },
     "execution_count": 84,
     "metadata": {},
     "output_type": "execute_result"
    }
   ],
   "source": [
    "a.save_excel()"
   ]
  },
  {
   "cell_type": "code",
   "execution_count": null,
   "metadata": {},
   "outputs": [],
   "source": []
  }
 ],
 "metadata": {
  "kernelspec": {
   "display_name": "Python 3",
   "language": "python",
   "name": "python3"
  },
  "language_info": {
   "codemirror_mode": {
    "name": "ipython",
    "version": 3
   },
   "file_extension": ".py",
   "mimetype": "text/x-python",
   "name": "python",
   "nbconvert_exporter": "python",
   "pygments_lexer": "ipython3",
   "version": "3.11.5"
  }
 },
 "nbformat": 4,
 "nbformat_minor": 2
}
