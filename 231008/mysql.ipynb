{
 "cells": [
  {
   "cell_type": "code",
   "execution_count": null,
   "metadata": {},
   "outputs": [],
   "source": [
    "!pip install pymysql"
   ]
  },
  {
   "cell_type": "code",
   "execution_count": null,
   "metadata": {},
   "outputs": [],
   "source": [
    "import pymysql"
   ]
  },
  {
   "cell_type": "markdown",
   "metadata": {},
   "source": [
    "# mysql 연동\n",
    "1. DB 서버와의 연결\n",
    "    - 서버의 주소\n",
    "    - 아이디\n",
    "    - 비밀번호(설정을 안 한 경우에는 적지 않는다.)\n",
    "    - Database\n",
    "    - Port\n",
    "2. Cursor를 생성 \n",
    "    - sql 서버와 python사이에 있는 가상의 공간\n",
    "3. sql 쿼리문을 작성 \n",
    "4. Cursor를 이용하여 sql쿼리문을 sql 서버에 보내준다. (execute)\n",
    "5. Select문 경우에는 결과 값을 Cursor에서 받아온다. \n",
    "6. insert, update, delete문의 경우에는 데이터가 수정이 됨으로 sql 서버에 데이터를 변경(commit)\n",
    "7. sql 서버와의 연결을 종료"
   ]
  },
  {
   "cell_type": "code",
   "execution_count": null,
   "metadata": {},
   "outputs": [],
   "source": [
    "# 서버와의 연결 \n",
    "_db = pymysql.connect(\n",
    "    host = '127.0.0.1',   # localhost\n",
    "    user = 'root', \n",
    "    password = '1234', \n",
    "    database= 'ezen', \n",
    "    port = 3306\n",
    ")"
   ]
  },
  {
   "cell_type": "code",
   "execution_count": null,
   "metadata": {},
   "outputs": [],
   "source": [
    "# Cursor 생성 \n",
    "# cursor() : 인자값을 넣지 않으면 결과값을 받아올때 tuple의 형태로 데이터를 가져온다. \n",
    "cursor = _db.cursor(pymysql.cursors.DictCursor)"
   ]
  },
  {
   "cell_type": "code",
   "execution_count": null,
   "metadata": {},
   "outputs": [],
   "source": [
    "# 테이블을 생성하는 sql 쿼리문을 작성 \n",
    "sql = \"\"\"\n",
    "    create \n",
    "    table \n",
    "    user(\n",
    "        id varchar(32) primary key, \n",
    "        password varchar(32) not null, \n",
    "        name varchar(32) not null, \n",
    "        gender int\n",
    "    );\n",
    "\"\"\"\n",
    "# cursor에 있는 execute()함수를 이용하여 쿼리문을 실행\n",
    "cursor.execute(sql)"
   ]
  },
  {
   "cell_type": "code",
   "execution_count": null,
   "metadata": {},
   "outputs": [],
   "source": [
    "# insert문을 이용하여 데이터를 삽입\n",
    "sql = \"\"\"\n",
    "    insert \n",
    "    into \n",
    "    user(\n",
    "        id, \n",
    "        password, \n",
    "        name\n",
    "    )\n",
    "    values \n",
    "    (\n",
    "        'test', \n",
    "        '1234', \n",
    "        'kim'\n",
    "    )\n",
    "\"\"\"\n",
    "\n",
    "cursor.execute(sql)"
   ]
  },
  {
   "cell_type": "code",
   "execution_count": null,
   "metadata": {},
   "outputs": [],
   "source": [
    "_db.commit()"
   ]
  },
  {
   "cell_type": "code",
   "execution_count": null,
   "metadata": {},
   "outputs": [],
   "source": [
    "# 외부의 데이터베이스 서버에 접속\n",
    "\n",
    "_db2 = pymysql.connect(\n",
    "    host = 'darkpreist.iptime.org', \n",
    "    user = 'ubion', \n",
    "    password = '1234', \n",
    "    database= 'ubion', \n",
    "    port = 3306\n",
    ")"
   ]
  },
  {
   "cell_type": "code",
   "execution_count": null,
   "metadata": {},
   "outputs": [],
   "source": [
    "cursor = _db2.cursor(pymysql.cursors.DictCursor)"
   ]
  },
  {
   "cell_type": "code",
   "execution_count": null,
   "metadata": {},
   "outputs": [],
   "source": [
    "sql = \"\"\"\n",
    "    SELECT \n",
    "    `Region` as '대륙', \n",
    "    `Country` as '국가', \n",
    "    `Sales Channel` as '채널', \n",
    "    `Units Sold` as '개수', \n",
    "    `Unit Cost` as '원가', \n",
    "    `Unit Price` as '단가'\n",
    "    FROM \n",
    "    `sales records`\n",
    "\"\"\"\n",
    "\n",
    "cursor.execute(sql)"
   ]
  },
  {
   "cell_type": "code",
   "execution_count": null,
   "metadata": {},
   "outputs": [],
   "source": [
    "# cursor 공간에서 데이터를 불러온다. \n",
    "data = cursor.fetchall()"
   ]
  },
  {
   "cell_type": "code",
   "execution_count": null,
   "metadata": {},
   "outputs": [],
   "source": [
    "data"
   ]
  },
  {
   "cell_type": "code",
   "execution_count": null,
   "metadata": {},
   "outputs": [],
   "source": [
    "import pandas as pd"
   ]
  },
  {
   "cell_type": "code",
   "execution_count": null,
   "metadata": {},
   "outputs": [],
   "source": [
    "df = pd.DataFrame(data)\n",
    "df"
   ]
  },
  {
   "cell_type": "markdown",
   "metadata": {},
   "source": [
    "# 데이터의 결합\n",
    "1. Union 결합 ( 데이터 간의 단순한 결합 )\n",
    "    - 단순하게 행을 결합, 열을 결합 \n",
    "    - sql\n",
    "        - table UNION table2\n",
    "    - pandas \n",
    "        - concat([df, df2], axis={0|1})\n",
    "2. Join 결합 ( 특정한 조건에 맞춰서 열을 결합 )\n",
    "    - 특정한 컬럼의 데이터를 기준으로 하여 해당하는 값들이 일치한다면 열을 결합\n",
    "    - sql\n",
    "        - table join table2 on 조건식\n",
    "    - pandas \n",
    "        - merge(df, df2, on = 조건식, how = 결합방식)"
   ]
  },
  {
   "cell_type": "code",
   "execution_count": null,
   "metadata": {},
   "outputs": [],
   "source": [
    "sql = \"\"\"\n",
    "    select \n",
    "    * \n",
    "    from \n",
    "    tran_1\n",
    "\"\"\"\n",
    "cursor.execute(sql)\n",
    "data1 = cursor.fetchall()\n",
    "df = pd.DataFrame(data1)"
   ]
  },
  {
   "cell_type": "code",
   "execution_count": null,
   "metadata": {},
   "outputs": [],
   "source": [
    "df"
   ]
  },
  {
   "cell_type": "code",
   "execution_count": null,
   "metadata": {},
   "outputs": [],
   "source": [
    "sql = \"\"\"\n",
    "    select \n",
    "    * \n",
    "    from tran_2\n",
    "\"\"\"\n",
    "cursor.execute(sql)\n",
    "data2 =cursor.fetchall()\n",
    "df2 = pd.DataFrame(data2)\n",
    "df2"
   ]
  },
  {
   "cell_type": "code",
   "execution_count": null,
   "metadata": {},
   "outputs": [],
   "source": [
    "# sql 쿼리문을 이용하여 데이터를 단순 행 결합\n",
    "sql = \"\"\"\n",
    "    select * from tran_1 \n",
    "    union \n",
    "    select * from tran_2;\n",
    "\"\"\"\n",
    "cursor.execute(sql)\n",
    "data3 = cursor.fetchall()\n",
    "df3 = pd.DataFrame(data3)\n",
    "df3"
   ]
  },
  {
   "cell_type": "code",
   "execution_count": null,
   "metadata": {},
   "outputs": [],
   "source": [
    "# pandas를 이용하여 데이터프레임을 단순 행 결합 \n",
    "pd.concat([df, df2], axis=0, ignore_index=True)"
   ]
  },
  {
   "cell_type": "code",
   "execution_count": null,
   "metadata": {},
   "outputs": [],
   "source": [
    "# 인자값으로 쿼리문을 입력하면 결과를 데이터프레임으로 되돌려주는 함수\n",
    "def sql_load(sql):\n",
    "    cursor.execute(sql)\n",
    "    data = cursor.fetchall()\n",
    "    result = pd.DataFrame(data)\n",
    "    return result"
   ]
  },
  {
   "cell_type": "code",
   "execution_count": null,
   "metadata": {},
   "outputs": [],
   "source": [
    "sql = \"\"\"\n",
    "    select \n",
    "    * \n",
    "    from \n",
    "    emp\n",
    "\"\"\"\n",
    "emp = sql_load(sql)\n",
    "emp"
   ]
  },
  {
   "cell_type": "code",
   "execution_count": null,
   "metadata": {},
   "outputs": [],
   "source": [
    "sql = \"\"\"\n",
    "    select \n",
    "    * \n",
    "    from \n",
    "    dept\n",
    "\"\"\"\n",
    "dept = sql_load(sql)\n",
    "dept"
   ]
  },
  {
   "cell_type": "code",
   "execution_count": null,
   "metadata": {},
   "outputs": [],
   "source": [
    "# join 결합 sql\n",
    "sql = \"\"\"\n",
    "    select \n",
    "    *\n",
    "    from \n",
    "    emp \n",
    "    right join \n",
    "    dept \n",
    "    on \n",
    "    emp.DEPTNO = dept.DEPTNO\n",
    "\"\"\"\n",
    "sql_load(sql)"
   ]
  },
  {
   "cell_type": "code",
   "execution_count": null,
   "metadata": {},
   "outputs": [],
   "source": [
    "# pandas를 이용하여 join 결합 (merge)\n",
    "pd.merge(emp, dept, on = 'DEPTNO', how = 'right')"
   ]
  },
  {
   "cell_type": "code",
   "execution_count": null,
   "metadata": {},
   "outputs": [],
   "source": [
    "class Mysql:\n",
    "    # 생성자 함수 : class가 생성 될때 최초로 한번만 실행이 되는 함수을 의미한다. 초기화 함수라고 부르기도 한다. \n",
    "    def __init__(self, _host, _user, _pass, _db, _port):\n",
    "        self.host = _host\n",
    "        self.user = _user\n",
    "        self.password = _pass\n",
    "        self.db = _db\n",
    "        self.port = _port\n",
    "    \n",
    "    # sql 쿼리문을 입력 값으로 받아서 쿼리문을 실행하고 결과값을 되돌려주는 함수 \n",
    "    def sql_load(self, _sql, _value = []):\n",
    "        # 데이터베이스 서버와의 연결\n",
    "        _db = pymysql.connect(\n",
    "            host = self.host, \n",
    "            user = self.user, \n",
    "            password = self.password, \n",
    "            database = self.db, \n",
    "            port = self.port\n",
    "        )\n",
    "        # Cursor 생성\n",
    "        cursor = _db.cursor(pymysql.cursors.DictCursor)\n",
    "\n",
    "        # sql 쿼리문을 실행 \n",
    "        cursor.execute(_sql, _value)\n",
    "\n",
    "        # _sql이 시작이 select로 시작하는 경우\n",
    "        if _sql.strip().lower().startswith('select'):\n",
    "            result = cursor.fetchall()\n",
    "        # 아닌 경우\n",
    "        else:\n",
    "            _db.commit()\n",
    "            result = 'Query OK'\n",
    "        \n",
    "        # 데이터베이스와의 연결을 종료\n",
    "        _db.close()\n",
    "        \n",
    "        return result\n"
   ]
  },
  {
   "cell_type": "code",
   "execution_count": null,
   "metadata": {},
   "outputs": [],
   "source": [
    "sql = \"\"\"\n",
    "    insert \n",
    "    * \n",
    "    from \n",
    "    emp\n",
    "\"\"\"\n",
    "# sql.strip().lower()[0:6] == 'select'\n",
    "sql.strip().lower().startswith('select')"
   ]
  }
 ],
 "metadata": {
  "kernelspec": {
   "display_name": "Python 3",
   "language": "python",
   "name": "python3"
  },
  "language_info": {
   "codemirror_mode": {
    "name": "ipython",
    "version": 3
   },
   "file_extension": ".py",
   "mimetype": "text/x-python",
   "name": "python",
   "nbconvert_exporter": "python",
   "pygments_lexer": "ipython3",
   "version": "3.11.5"
  },
  "orig_nbformat": 4
 },
 "nbformat": 4,
 "nbformat_minor": 2
}
