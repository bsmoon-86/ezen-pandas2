{
 "cells": [
  {
   "cell_type": "markdown",
   "metadata": {},
   "source": [
    "# buy and hold 전력\n",
    "1. 구매 후 일정 기간이 지나면 판매"
   ]
  },
  {
   "cell_type": "code",
   "execution_count": null,
   "metadata": {},
   "outputs": [],
   "source": [
    "import pandas as pd\n",
    "import numpy as np"
   ]
  },
  {
   "cell_type": "code",
   "execution_count": null,
   "metadata": {},
   "outputs": [],
   "source": [
    "df = pd.read_csv(\"../csv/AAPL.csv\", index_col='Date')\n",
    "# 인덱스를 변경\n",
    "# df = df.set_index('Date')\n",
    "df.head(3)"
   ]
  },
  {
   "cell_type": "code",
   "execution_count": null,
   "metadata": {},
   "outputs": [],
   "source": [
    "# 결측치를 확인 \n",
    "df.info()"
   ]
  },
  {
   "cell_type": "code",
   "execution_count": null,
   "metadata": {},
   "outputs": [],
   "source": [
    "# volume 데이터의 결측치인 데이터를 출력\n",
    "# 데이터프레임명.loc[인덱스의 조건식, 컬럼의 조건식]\n",
    "df.loc[df['Volume'].isna()]"
   ]
  },
  {
   "cell_type": "code",
   "execution_count": null,
   "metadata": {},
   "outputs": [],
   "source": [
    "# volumn 데이터의 결측치가 아닌 데이터를 출력\n",
    "df.loc[~df['Volume'].isna()]"
   ]
  },
  {
   "cell_type": "code",
   "execution_count": null,
   "metadata": {},
   "outputs": [],
   "source": [
    "df2 = df.copy()"
   ]
  },
  {
   "cell_type": "code",
   "execution_count": null,
   "metadata": {},
   "outputs": [],
   "source": [
    "df2.dropna(axis=0)"
   ]
  },
  {
   "cell_type": "code",
   "execution_count": null,
   "metadata": {},
   "outputs": [],
   "source": [
    "df2.drop([\"1981-08-10\", '1981-08-21'], axis=0)"
   ]
  },
  {
   "cell_type": "code",
   "execution_count": null,
   "metadata": {},
   "outputs": [],
   "source": [
    "# 결측치와 양의 무한대 음의 무한대의 값들을 제거 \n",
    "df.loc[df['Close'] != np.inf]\n",
    "df.loc[df['Close'] != -np.inf]\n",
    "df.loc[~df['Close'].isna()]"
   ]
  },
  {
   "cell_type": "code",
   "execution_count": null,
   "metadata": {},
   "outputs": [],
   "source": [
    "df.loc[\n",
    "    (df['Close'] != np.inf) & (df['Close'] != -np.inf) & (~df['Close'].isna())\n",
    "]"
   ]
  },
  {
   "cell_type": "code",
   "execution_count": null,
   "metadata": {},
   "outputs": [],
   "source": [
    "flag = ~df.isin([np.nan, -np.inf, np.inf]).any(axis=1)"
   ]
  },
  {
   "cell_type": "code",
   "execution_count": null,
   "metadata": {},
   "outputs": [],
   "source": [
    "df = df.loc[flag]"
   ]
  },
  {
   "cell_type": "code",
   "execution_count": null,
   "metadata": {},
   "outputs": [],
   "source": [
    "# df에서 Close를 제외한 나머지 컬럼들을 모두 제거 \n",
    "price_df = df[['Close']]"
   ]
  },
  {
   "cell_type": "code",
   "execution_count": null,
   "metadata": {},
   "outputs": [],
   "source": [
    "# 일별 수익율??? (오늘의 종가 - 전날의 종가) / 전날의 종가\n",
    "\n",
    "# case1 (shift())\n",
    "(price_df['Close'] - price_df['Close'].shift(1)) / price_df['Close'].shift(1)"
   ]
  },
  {
   "cell_type": "code",
   "execution_count": null,
   "metadata": {},
   "outputs": [],
   "source": [
    "# case2 (diff())\n",
    "price_df['Close'].diff(1) / price_df['Close'].shift(1)"
   ]
  },
  {
   "cell_type": "code",
   "execution_count": null,
   "metadata": {},
   "outputs": [],
   "source": [
    "# case3 (pct_change())\n",
    "price_df['daily_rtn'] = price_df['Close'].pct_change().fillna(0)"
   ]
  },
  {
   "cell_type": "code",
   "execution_count": null,
   "metadata": {},
   "outputs": [],
   "source": [
    "price_df.head(3)"
   ]
  },
  {
   "cell_type": "code",
   "execution_count": null,
   "metadata": {},
   "outputs": [],
   "source": [
    "# 일별 수익율을 기준으로 총 수익율 계산\n",
    "test_df = price_df.iloc[2000:5000]"
   ]
  },
  {
   "cell_type": "code",
   "execution_count": null,
   "metadata": {},
   "outputs": [],
   "source": [
    "# 수익율을 계산\n",
    "rtn = 1\n",
    "\n",
    "for i in test_df['daily_rtn'].tolist():\n",
    "    rtn = rtn * (1 + i)\n",
    "\n",
    "rtn"
   ]
  },
  {
   "cell_type": "code",
   "execution_count": null,
   "metadata": {},
   "outputs": [],
   "source": [
    "# buyandhold 함수화\n",
    "def bnh(_df, _col, _start, _end):\n",
    "    # df에 columns에 Date가 존재한다면 Date를 인덱스로 변환\n",
    "    if 'Date' in _df.columns:\n",
    "        _df = _df.set_index('Date')\n",
    "    # index를 시계열 데이터로 변경 (to_datetime(Series데이터, format=Series데이터의 폼))\n",
    "    _df.index = pd.to_datetime(_df.index, format='%Y-%m-%d')\n",
    "    # 결측치, 무한대, 음의 무한대 값을 제외시킨다. \n",
    "    _df = _df.loc[~_df.isin([np.nan, np.inf, -np.inf]).any(axis=1)]\n",
    "    # 기준이 되는 컬럼을 제외하고 나머지 컬럼을 제거 \n",
    "    _df = _df[[_col]]\n",
    "    # 일별 수익율 계산해서 새로운 파생변수에 대입\n",
    "    _df[\"daily_rtn\"] = _df[_col].pct_change()\n",
    "    # 구매한 날과 판매한 날을 기준으로 데이터를 필터링\n",
    "    _df = _df.loc[_start : _end]\n",
    "    # 누적 수익율을 계산하여 새로운 파생변수에 대입 \n",
    "    _df['st_rtn'] = (1 + _df['daily_rtn']).cumprod()\n",
    "\n",
    "    return _df"
   ]
  },
  {
   "cell_type": "code",
   "execution_count": null,
   "metadata": {},
   "outputs": [],
   "source": [
    "from datetime import datetime"
   ]
  },
  {
   "cell_type": "code",
   "execution_count": null,
   "metadata": {},
   "outputs": [],
   "source": [
    "df = pd.read_csv(\"../csv/AMZN.csv\")\n",
    "df.tail(1)"
   ]
  },
  {
   "cell_type": "code",
   "execution_count": null,
   "metadata": {},
   "outputs": [],
   "source": [
    "start = '20000101'\n",
    "end = '20151231'\n",
    "# 문자열을 시계열로 변경\n",
    "start = datetime.strptime(start, '%Y%m%d').isoformat()\n",
    "end = datetime.strptime(end, '%Y%m%d').isoformat()"
   ]
  },
  {
   "cell_type": "code",
   "execution_count": null,
   "metadata": {},
   "outputs": [],
   "source": [
    "bnh(df, 'Adj Close', start, end)"
   ]
  },
  {
   "cell_type": "markdown",
   "metadata": {},
   "source": [
    "# bollinger band\n",
    "1. 데이터를 로드 \n",
    "2. 결측치 이상치 제거 \n",
    "3. 시간, 종가로 이루어진 데이터프레임을 생성 \n",
    "4. 이동 평균선 : 데이터의 20개의 평균을 구하여 새로운 파생변수 대입\n",
    "5. 상단 밴드 : 이동평균선 + (2 * 데이터 20개의 표준편차)\n",
    "6. 하단 밴드 : 이동평균선 - (2 * 데이터 20개의 표준편차)\n",
    "7. 구매 상태를 확인하는 파생변수 생성\n",
    "8. 구매 상태를 입력\n",
    "9. 수익율 계산"
   ]
  },
  {
   "cell_type": "code",
   "execution_count": null,
   "metadata": {},
   "outputs": [],
   "source": [
    "import matplotlib.pyplot as plt"
   ]
  },
  {
   "cell_type": "code",
   "execution_count": null,
   "metadata": {},
   "outputs": [],
   "source": [
    "df = pd.read_csv('../csv/AAPL.csv', index_col='Date')"
   ]
  },
  {
   "cell_type": "code",
   "execution_count": null,
   "metadata": {},
   "outputs": [],
   "source": [
    "# 결측치 이상치를 제거 \n",
    "flag = ~df.isin([np.nan, np.inf, -np.inf]).any(axis=1)\n",
    "df = df.loc[flag]\n",
    "df.head(3)"
   ]
  },
  {
   "cell_type": "code",
   "execution_count": null,
   "metadata": {},
   "outputs": [],
   "source": [
    "# 수정종가로 이루어진 데이터프레임 생성\n",
    "price_df = df[['Adj Close']]\n",
    "price_df"
   ]
  },
  {
   "cell_type": "code",
   "execution_count": null,
   "metadata": {},
   "outputs": [],
   "source": [
    "# 이동 평균선 생성 \n",
    "# 종가 데이터의 20개의 평균 값\n",
    "price_df['center'] = 0\n",
    "# case1 (반복문)\n",
    "for i in range(20, len(price_df), 1):\n",
    "    # i? 인덱스의 위치\n",
    "    center_data = price_df.iloc[i-20:i-1, 0].mean()\n",
    "    price_df.iloc[i-1, 1] =center_data\n",
    "price_df.iloc[19:25]"
   ]
  },
  {
   "cell_type": "code",
   "execution_count": null,
   "metadata": {},
   "outputs": [],
   "source": [
    "# case2 (rolling(n)) : n개 만큼 데이터를 묶는다.\n",
    "price_df['center'] = price_df['Adj Close'].rolling(20).mean()\n",
    "price_df.iloc[19:25]"
   ]
  },
  {
   "cell_type": "code",
   "execution_count": null,
   "metadata": {},
   "outputs": [],
   "source": [
    "# 상단 밴드 \n",
    "price_df['ub'] = price_df['center'] + ( 2 * price_df['Adj Close'].rolling(20).std() )\n",
    "# 하단 밴드 \n",
    "price_df['lb'] = price_df['center'] - ( 2 * price_df['Adj Close'].rolling(20).std() )"
   ]
  },
  {
   "cell_type": "code",
   "execution_count": null,
   "metadata": {},
   "outputs": [],
   "source": [
    "price_df.tail(10)"
   ]
  },
  {
   "cell_type": "code",
   "execution_count": null,
   "metadata": {},
   "outputs": [],
   "source": [
    "price_df.tail(100).plot()"
   ]
  },
  {
   "cell_type": "code",
   "execution_count": null,
   "metadata": {},
   "outputs": [],
   "source": [
    "# 거래 내역 파생변수 생성 \n",
    "price_df['trade'] = ''"
   ]
  },
  {
   "cell_type": "code",
   "execution_count": null,
   "metadata": {},
   "outputs": [],
   "source": [
    "price_df.head(3)"
   ]
  },
  {
   "cell_type": "code",
   "execution_count": null,
   "metadata": {},
   "outputs": [],
   "source": [
    "# 일정 기간으로 인덱스 필터링 \n",
    "start = '20100101'\n",
    "start = datetime.strptime(start, '%Y%m%d').isoformat()\n",
    "\n",
    "price_df = price_df.loc[start:]"
   ]
  },
  {
   "cell_type": "markdown",
   "metadata": {},
   "source": [
    "### 구매 내역 추가 \n",
    "- 조건\n",
    "    - 상단밴드보다 종가가 높은 경우\n",
    "        - 현재 구매 상태라면\n",
    "            - 매도(trade = '')\n",
    "        - 구매 상태가 아니라면\n",
    "            - 아무 행동도 하지 않는다(trade = '')\n",
    "    - 하단밴드보다 종가가 낮은 경우\n",
    "        - 현재 구매 상태라면\n",
    "            - 아무 행동도 하지 않는다(trade = 'buy')\n",
    "        - 구매 상태가 아니라면\n",
    "            - 매수 (trade = 'buy')\n",
    "    - 밴드 사이에 종가가 존재하는 경우\n",
    "        - 현재 구매 상태라면 \n",
    "            - 아무 행동도 하지 않는다(trade = 'buy')\n",
    "        - 구매 상태가 아니라면\n",
    "            - 아무 행동도 하지 않는다(trade = '')"
   ]
  },
  {
   "cell_type": "code",
   "execution_count": null,
   "metadata": {},
   "outputs": [],
   "source": [
    "for i in price_df.index:\n",
    "    # i? -> price_df의 index 값들이 하나씩 대입\n",
    "\n",
    "    # 상단밴드보다 종가가 높은 경우\n",
    "    if price_df.loc[i, 'Adj Close'] > price_df.loc[i, 'ub']:\n",
    "        price_df.loc[i, 'trade'] = ''\n",
    "    # 하단밴드보다 종가가 낮은 경우\n",
    "    elif price_df.loc[i, 'Adj Close'] < price_df.loc[i, 'lb']:\n",
    "        price_df.loc[i, 'trade'] = 'buy'\n",
    "    # 밴드 사이에 종가가 존재하는 경우\n",
    "    else:\n",
    "        # 현재 구매 상태라면? 전날의 trade가 buy인 경우\n",
    "        if price_df.shift(1).loc[i, 'trade'] == 'buy':\n",
    "            price_df.loc[i, 'trade'] = 'buy'\n",
    "        else :\n",
    "            price_df.loc[i, 'trade'] = ''"
   ]
  },
  {
   "cell_type": "code",
   "execution_count": null,
   "metadata": {},
   "outputs": [],
   "source": [
    "price_df['trade'].value_counts()"
   ]
  },
  {
   "cell_type": "markdown",
   "metadata": {},
   "source": [
    "## 수익율 계산\n",
    "- 구매한 날의 종가 \n",
    "    - 전 날의 trade 데이터가 '' 오늘의 trade가 'buy'인 경우의 Adj Close의 값\n",
    "- 판매한 날의 종가\n",
    "    - 전 날의 trade 데이터가 'buy' 오늘의 trade가 ''인 경우의 Adj Close의 값\n",
    "- 수익율 계산\n",
    "    - 판매한 날의 종가 / 구매한 날의 종가"
   ]
  },
  {
   "cell_type": "code",
   "execution_count": null,
   "metadata": {},
   "outputs": [],
   "source": [
    "rtn = 1.0\n",
    "buy = 0.0\n",
    "sell = 0.0\n",
    "\n",
    "# 수익율 파생변수 생성\n",
    "price_df['return'] = 1.0\n",
    "\n",
    "for i in price_df.index:\n",
    "    # i? price_df의 index값들이 하나씩 대입하여 실행\n",
    "\n",
    "    # 구매가\n",
    "    if (price_df.shift(1).loc[i, 'trade'] == '') & (price_df.loc[i, 'trade'] == 'buy'):\n",
    "        # 해당하는 날짜의 종가를 buy에 대입\n",
    "        buy = price_df.loc[i, 'Adj Close']\n",
    "        print('매수한 날짜 :', i, '매수가 :', buy)\n",
    "    # 판매가\n",
    "    elif (price_df.shift(1).loc[i, 'trade'] == 'buy') & (price_df.loc[i, 'trade'] == ''):\n",
    "        # 판매가를 sell에 대입\n",
    "        sell = price_df.loc[i, 'Adj Close']\n",
    "        # 수익율 계산\n",
    "        rtn = sell / buy\n",
    "        # 수익율을 해당하는 날짜의 return에 대입\n",
    "        price_df.loc[i, 'return'] = rtn\n",
    "        print('매도 날짜 :', i, '매도가 :', sell, '수익율 :', rtn)"
   ]
  },
  {
   "cell_type": "code",
   "execution_count": 59,
   "metadata": {},
   "outputs": [
    {
     "name": "stderr",
     "output_type": "stream",
     "text": [
      "C:\\Users\\EZEN\\AppData\\Local\\Temp\\ipykernel_6644\\2481751609.py:8: SettingWithCopyWarning: \n",
      "A value is trying to be set on a copy of a slice from a DataFrame.\n",
      "Try using .loc[row_indexer,col_indexer] = value instead\n",
      "\n",
      "See the caveats in the documentation: https://pandas.pydata.org/pandas-docs/stable/user_guide/indexing.html#returning-a-view-versus-a-copy\n",
      "  price_df.loc[i, 'acc_rtn'] = acc_rtn\n"
     ]
    },
    {
     "name": "stdout",
     "output_type": "stream",
     "text": [
      "누적 수익율 : 1.3923287814461949\n"
     ]
    }
   ],
   "source": [
    "# 누적 수익율\n",
    "\n",
    "acc_rtn = 1.0\n",
    "\n",
    "for i in price_df.index:\n",
    "    rtn = price_df.loc[i, 'return']\n",
    "    acc_rtn *= rtn\n",
    "    price_df.loc[i, 'acc_rtn'] = acc_rtn\n",
    "\n",
    "print('누적 수익율 :', acc_rtn)"
   ]
  }
 ],
 "metadata": {
  "kernelspec": {
   "display_name": "Python 3",
   "language": "python",
   "name": "python3"
  },
  "language_info": {
   "codemirror_mode": {
    "name": "ipython",
    "version": 3
   },
   "file_extension": ".py",
   "mimetype": "text/x-python",
   "name": "python",
   "nbconvert_exporter": "python",
   "pygments_lexer": "ipython3",
   "version": "3.11.5"
  }
 },
 "nbformat": 4,
 "nbformat_minor": 2
}
