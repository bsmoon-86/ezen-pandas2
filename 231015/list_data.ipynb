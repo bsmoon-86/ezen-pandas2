{
 "cells": [
  {
   "cell_type": "code",
   "execution_count": null,
   "metadata": {},
   "outputs": [],
   "source": [
    "import os \n",
    "import pandas as pd"
   ]
  },
  {
   "cell_type": "code",
   "execution_count": null,
   "metadata": {},
   "outputs": [],
   "source": [
    "# csv폴더에 있는 2018폴더의 csv 파일들을 모두 결합하여 하나의 데이터프레임으로 생성\n",
    "\n",
    "# 파일의 경로를 변수에 대입\n",
    "file_path = \"../csv/2018/\"\n",
    "# 경로의 파일 리스트를 생성 \n",
    "file_list = os.listdir(file_path)\n",
    "file_list"
   ]
  },
  {
   "cell_type": "code",
   "execution_count": null,
   "metadata": {},
   "outputs": [],
   "source": [
    "\n",
    "# 비어있는 데이터프레임 생성\n",
    "result = pd.DataFrame()\n",
    "# 파일 리스트를 반복문을 이용하여 반복\n",
    "for file in file_list:\n",
    "    # 파일의 경로와 파일 리스트의 각원소의 값들을 결합하여 read_csv()로 데이터프레임 생성\n",
    "    df = pd.read_csv(file_path+file)\n",
    "    # concat()을 이용하여 비어있는 데이터프레임과 결합\n",
    "    result = pd.concat([result, df], axis=0, ignore_index=True)\n"
   ]
  },
  {
   "cell_type": "code",
   "execution_count": null,
   "metadata": {},
   "outputs": [],
   "source": [
    "result.info()"
   ]
  },
  {
   "cell_type": "code",
   "execution_count": null,
   "metadata": {},
   "outputs": [],
   "source": [
    "# 특정 경로에 있는 파일 목록을 하나의 데이터프레임으로 결합하는 함수 생성\n",
    "def list_load(_path, _end):\n",
    "    # _path : 파일의 경로\n",
    "    # _end : 파일의 확장자\n",
    "\n",
    "    # _path의 마지막 문자열이 '/'가 아니라면?\n",
    "    # if not(_path.endswith('/')):\n",
    "    if _path[-1] != '/':\n",
    "        _path = _path + '/'\n",
    "    \n",
    "    # 특정 경로의 파일 리스트 생성\n",
    "    file_list = os.listdir(_path)\n",
    "\n",
    "    # 특정 확장자로 이루어진 파일 리스트 생성\n",
    "    file_list2 = []\n",
    "\n",
    "    for file in file_list:\n",
    "        if file.endswith(_end):\n",
    "            file_list2.append(file)\n",
    "\n",
    "    # 비어있는 데이터프레임 생성\n",
    "    result = pd.DataFrame()\n",
    "\n",
    "    # 반복문 생성\n",
    "    for file in file_list2:\n",
    "        # _end가 'csv'인 경우\n",
    "        if _end == 'csv':\n",
    "            df = pd.read_csv(_path+file)\n",
    "        elif _end == 'json':\n",
    "            df = pd.read_json(_path+file)\n",
    "        # elif (_end == 'xls') | (_end == 'xlsx'):\n",
    "        elif _end in ['xls', 'xlsx']:\n",
    "            df = pd.read_excel(_path+file)\n",
    "        else:\n",
    "            return \"지원하지 않는 확장자입니다.\"\n",
    "        \n",
    "        # 유니언 결합\n",
    "        result = pd.concat([result, df], axis=0, ignore_index=True)\n",
    "\n",
    "    return result"
   ]
  },
  {
   "cell_type": "code",
   "execution_count": null,
   "metadata": {},
   "outputs": [],
   "source": [
    "list_load('../csv/2021/', 'xlsx').info()"
   ]
  },
  {
   "cell_type": "code",
   "execution_count": null,
   "metadata": {},
   "outputs": [],
   "source": [
    "file_list = os.listdir('../csv/2021/')\n",
    "file_list\n",
    "\n",
    "file_list2 = []\n",
    "\n",
    "for file in file_list:\n",
    "    # if 조건식(특정한 확장자인 경우)\n",
    "    if file.endswith('.csv'):\n",
    "    # 문자열에 특정한 문자가 포함되어있는가?\n",
    "    # if 'csv' in file:\n",
    "        file_list2.append(file)\n",
    "\n",
    "file_list2\n"
   ]
  },
  {
   "cell_type": "code",
   "execution_count": null,
   "metadata": {},
   "outputs": [],
   "source": [
    "import list_load as ll\n",
    "import imp "
   ]
  },
  {
   "cell_type": "code",
   "execution_count": null,
   "metadata": {},
   "outputs": [],
   "source": [
    "imp.reload(ll)"
   ]
  },
  {
   "cell_type": "code",
   "execution_count": null,
   "metadata": {},
   "outputs": [],
   "source": [
    "ll.list_load('../csv/2022/', 'csv')"
   ]
  },
  {
   "cell_type": "code",
   "execution_count": null,
   "metadata": {},
   "outputs": [],
   "source": [
    "import sys"
   ]
  },
  {
   "cell_type": "code",
   "execution_count": null,
   "metadata": {},
   "outputs": [],
   "source": [
    "sys.path"
   ]
  },
  {
   "cell_type": "code",
   "execution_count": null,
   "metadata": {},
   "outputs": [],
   "source": []
  }
 ],
 "metadata": {
  "kernelspec": {
   "display_name": "Python 3",
   "language": "python",
   "name": "python3"
  },
  "language_info": {
   "codemirror_mode": {
    "name": "ipython",
    "version": 3
   },
   "file_extension": ".py",
   "mimetype": "text/x-python",
   "name": "python",
   "nbconvert_exporter": "python",
   "pygments_lexer": "ipython3",
   "version": "3.11.5"
  }
 },
 "nbformat": 4,
 "nbformat_minor": 2
}
